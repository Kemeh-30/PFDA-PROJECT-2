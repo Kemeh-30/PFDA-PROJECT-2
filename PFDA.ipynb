{
 "cells": [
  {
   "cell_type": "code",
   "execution_count": 191,
   "metadata": {},
   "outputs": [],
   "source": [
    "# Programing for data analytics project 2"
   ]
  },
  {
   "cell_type": "markdown",
   "metadata": {},
   "source": [
    "# Question\n",
    "\n",
    "• Analyse CO2 vs Temperature Anomaly from 800kyrs – present.\n",
    "• Examine one other (paleo/modern) features (e.g. CH4 or polar ice-coverage)\n",
    "• Examine Irish context:\n",
    "o Climate change signals: (see Maynooth study: The emergence of a climate change\n",
    "signal in long-term Irish meteorological observations - ScienceDirect)\n",
    "• Fuse and analyse data from various data sources and format fused data set as a pandas\n",
    "dataframe and export to csv and json formats\n",
    "• For all of the above variables, analyse the data, the trends and the relationships between\n",
    "them (temporal leads/lags/frequency analysis).\n",
    "• Predict global temperature anomaly over next few decades (synthesise data) and compare to\n",
    "published climate models if atmospheric CO2 trends continue\n",
    "• Comment on accelerated warming based on very latest features (e.g. temperature/polar-icecoverage)\n",
    "Use a Jupyter notebook for your analysis and track your progress using GitHub.\n",
    "Use an academic referencing style"
   ]
  },
  {
   "cell_type": "markdown",
   "metadata": {},
   "source": [
    "# Import Required Libraries:"
   ]
  },
  {
   "cell_type": "code",
   "execution_count": 192,
   "metadata": {},
   "outputs": [],
   "source": [
    "import pandas as pd\n",
    "import numpy as np\n",
    "import matplotlib.pyplot as plt\n",
    "from scipy.stats import linregress\n",
    "from sklearn.linear_model import LinearRegression\n",
    "from sklearn.model_selection import train_test_split\n",
    "from sklearn.metrics import mean_squared_error\n"
   ]
  },
  {
   "cell_type": "markdown",
   "metadata": {},
   "source": [
    "load data from c02 luthi"
   ]
  },
  {
   "cell_type": "code",
   "execution_count": 193,
   "metadata": {},
   "outputs": [],
   "source": [
    "import pandas as pd\n",
    "\n",
    "# Load CO2 data from LUTHI\n",
    "CO2_LUTHI_path = 'C:\\\\Users\\\\fifoa\\\\OneDrive\\\\Desktop\\\\ATU\\\\PFDA-PROJECT-2\\\\CO2 LUTHI.xls'\n",
    "CO2_LUTHI_sheet1 = pd.read_excel(CO2_LUTHI_path, sheet_name='1.  new CO2 data')\n",
    "CO2_LUTHI_sheet2 = pd.read_excel(CO2_LUTHI_path, sheet_name='2.  Vostok-TD-Dome C')"
   ]
  },
  {
   "cell_type": "markdown",
   "metadata": {},
   "source": [
    "# Extract relevant columns"
   ]
  },
  {
   "cell_type": "code",
   "execution_count": 194,
   "metadata": {},
   "outputs": [],
   "source": [
    "\n",
    "monnin_luthi = CO2_LUTHI_sheet2.iloc[6:189, 1:3]\n",
    "pepin_luthi = CO2_LUTHI_sheet2.iloc[19:353, 5:7]\n",
    "siegenthaler_1_luthi = CO2_LUTHI_sheet1.iloc[6:26, 16:18]\n",
    "siegenthaler_2_luthi = CO2_LUTHI_sheet2.iloc[6:328, 12:14]\n",
    "luthi_luthi = CO2_LUTHI_sheet1.iloc[16:253, 1:3]"
   ]
  },
  {
   "cell_type": "markdown",
   "metadata": {},
   "source": [
    "# Rename columns"
   ]
  },
  {
   "cell_type": "code",
   "execution_count": 195,
   "metadata": {},
   "outputs": [],
   "source": [
    "\n",
    "monnin_luthi.rename(columns={'Unnamed: 1': 'yr_bp', 'Unnamed: 2': 'co2_ppmv'}, inplace=True)\n",
    "pepin_luthi.rename(columns={'Unnamed: 5': 'yr_bp', 'Unnamed: 6': 'co2_ppmv'}, inplace=True)\n",
    "siegenthaler_1_luthi.rename(columns={'Unnamed: 16': 'yr_bp', 'Unnamed: 17': 'co2_ppmv'}, inplace=True)\n",
    "siegenthaler_2_luthi.rename(columns={'Unnamed: 12': 'yr_bp', 'Unnamed: 13': 'co2_ppmv'}, inplace=True)\n",
    "luthi_luthi.rename(columns={'Unnamed: 1': 'yr_bp', 'Unnamed: 2': 'co2_ppmv'}, inplace=True)"
   ]
  },
  {
   "cell_type": "markdown",
   "metadata": {},
   "source": [
    "# Load CO2 data from IPCC"
   ]
  },
  {
   "cell_type": "code",
   "execution_count": 196,
   "metadata": {},
   "outputs": [],
   "source": [
    "\n",
    "CO2_IPCC_path = 'C:\\\\Users\\\\fifoa\\\\OneDrive\\\\Desktop\\\\ATU\\\\PFDA-PROJECT-2\\\\CO2 IPCC.xlsx'\n",
    "CO2_IPCC_data = pd.read_excel(CO2_IPCC_path, sheet_name='all records')"
   ]
  },
  {
   "cell_type": "markdown",
   "metadata": {},
   "source": [
    "# Extract relevant columns"
   ]
  },
  {
   "cell_type": "code",
   "execution_count": 197,
   "metadata": {},
   "outputs": [],
   "source": [
    "\n",
    "rubino = CO2_IPCC_data.iloc[90:, [83, 86]]\n",
    "macfarling = CO2_IPCC_data.iloc[137:, 68:70]\n",
    "monnin = CO2_IPCC_data.iloc[25:120, 2:4]\n",
    "marcott = CO2_IPCC_data.iloc[31:321, 98:100]\n",
    "ahn = CO2_IPCC_data.iloc[7:202, 89:91]\n",
    "bereiter = CO2_IPCC_data.iloc[28:106, 34:36]\n",
    "bereiter_2 = CO2_IPCC_data.iloc[60:154, 39:41]\n",
    "schneider = CO2_IPCC_data.iloc[6:, 65:67]\n",
    "petit = CO2_IPCC_data.iloc[124:348, 7:9]\n",
    "siegenthaler = CO2_IPCC_data.iloc[6:26, 20:22]\n",
    "siegenthaler_2 = CO2_IPCC_data.iloc[6:226, 15:17]\n",
    "bereiter_3 = CO2_IPCC_data.iloc[37:, 102:104]"
   ]
  },
  {
   "cell_type": "markdown",
   "metadata": {},
   "source": [
    "# Rename columns"
   ]
  },
  {
   "cell_type": "code",
   "execution_count": 198,
   "metadata": {},
   "outputs": [],
   "source": [
    "\n",
    "rubino.rename(columns={'Unnamed: 83': 'yr_bp', 'Unnamed: 86': 'co2_ppmv'}, inplace=True)\n",
    "macfarling.rename(columns={'Law Dome (0-2 kyr BP)': 'yr_bp', 'Unnamed: 69': 'co2_ppmv'}, inplace=True)\n",
    "monnin.rename(columns={'Unnamed: 2': 'yr_bp', 'Unnamed: 3': 'co2_ppmv'}, inplace=True)\n",
    "marcott.rename(columns={'Unnamed: 98': 'yr_bp', 'Unnamed: 99': 'co2_ppmv'}, inplace=True)\n",
    "ahn.rename(columns={'Unnamed: 89': 'yr_bp', 'Unnamed: 90': 'co2_ppmv'}, inplace=True)\n",
    "bereiter.rename(columns={'Unnamed: 34': 'yr_bp', 'Unnamed: 35': 'co2_ppmv'}, inplace=True)\n",
    "bereiter_2.rename(columns={'Unnamed: 39': 'yr_bp', 'Unnamed: 40': 'co2_ppmv'}, inplace=True)\n",
    "schneider.rename(columns={'Unnamed: 65': 'yr_bp', 'Unnamed: 66': 'co2_ppmv'}, inplace=True)\n",
    "petit.rename(columns={'Unnamed: 7': 'yr_bp', 'Unnamed: 8': 'co2_ppmv'}, inplace=True)\n",
    "siegenthaler.rename(columns={'Unnamed: 20': 'yr_bp', 'Unnamed: 21': 'co2_ppmv'}, inplace=True)\n",
    "siegenthaler_2.rename(columns={'Unnamed: 15': 'yr_bp', 'Unnamed: 16': 'co2_ppmv'}, inplace=True)\n",
    "bereiter_3.rename(columns={'Unnamed: 102': 'yr_bp', 'Unnamed: 103': 'co2_ppmv'}, inplace=True)"
   ]
  },
  {
   "cell_type": "markdown",
   "metadata": {},
   "source": [
    "# Merge datasets"
   ]
  },
  {
   "cell_type": "code",
   "execution_count": 199,
   "metadata": {},
   "outputs": [],
   "source": [
    "merged_data = pd.concat([monnin_luthi, pepin_luthi, siegenthaler_1_luthi, siegenthaler_2_luthi, luthi_luthi,\n",
    "                         rubino, macfarling, monnin, marcott, ahn, bereiter, bereiter_2, schneider, petit,\n",
    "                         siegenthaler, siegenthaler_2, bereiter_3], ignore_index=True)"
   ]
  },
  {
   "cell_type": "markdown",
   "metadata": {},
   "source": [
    "# Explore the merged dataset"
   ]
  },
  {
   "cell_type": "code",
   "execution_count": 200,
   "metadata": {},
   "outputs": [
    {
     "name": "stdout",
     "output_type": "stream",
     "text": [
      "  yr_bp co2_ppmv\n",
      "0   137    280.4\n",
      "1   268    274.9\n",
      "2   279    277.9\n",
      "3   395    279.1\n",
      "4   404    281.9\n"
     ]
    }
   ],
   "source": [
    "# Explore the merged dataset\n",
    "print(merged_data.head())"
   ]
  },
  {
   "cell_type": "markdown",
   "metadata": {},
   "source": [
    "# CLENAING out non-DataFrame (EMPTY DATA FRAMES) objects from the merged_data,THIS WILL SKIP EMPTY DATAFRAMES"
   ]
  },
  {
   "cell_type": "code",
   "execution_count": 201,
   "metadata": {},
   "outputs": [
    {
     "name": "stdout",
     "output_type": "stream",
     "text": [
      "Original Column Names for DataFrame: Index(['yr_bp', 'co2_ppmv'], dtype='object')\n",
      "Column Names After Renaming for DataFrame: Index(['yr_bp', 'co2_ppmv'], dtype='object')\n",
      "Original Column Names for DataFrame: Index(['yr_bp', 'co2_ppmv'], dtype='object')\n",
      "Column Names After Renaming for DataFrame: Index(['yr_bp', 'co2_ppmv'], dtype='object')\n",
      "Original Column Names for DataFrame: Index([], dtype='object')\n",
      "DataFrame is empty. Skipping processing.\n",
      "Original Column Names for DataFrame: Index(['yr_bp', 'co2_ppmv'], dtype='object')\n",
      "Column Names After Renaming for DataFrame: Index(['yr_bp', 'co2_ppmv'], dtype='object')\n",
      "Original Column Names for DataFrame: Index(['yr_bp', 'co2_ppmv'], dtype='object')\n",
      "Column Names After Renaming for DataFrame: Index(['yr_bp', 'co2_ppmv'], dtype='object')\n",
      "Original Column Names for DataFrame: Index(['yr_bp', 'co2_ppmv'], dtype='object')\n",
      "Column Names After Renaming for DataFrame: Index(['yr_bp', 'co2_ppmv'], dtype='object')\n",
      "Original Column Names for DataFrame: Index(['yr_bp', 'co2_ppmv'], dtype='object')\n",
      "Column Names After Renaming for DataFrame: Index(['yr_bp', 'co2_ppmv'], dtype='object')\n",
      "Original Column Names for DataFrame: Index(['yr_bp', 'co2_ppmv'], dtype='object')\n",
      "Column Names After Renaming for DataFrame: Index(['yr_bp', 'co2_ppmv'], dtype='object')\n",
      "Original Column Names for DataFrame: Index(['yr_bp', 'co2_ppmv'], dtype='object')\n",
      "Column Names After Renaming for DataFrame: Index(['yr_bp', 'co2_ppmv'], dtype='object')\n",
      "Original Column Names for DataFrame: Index(['yr_bp', 'co2_ppmv'], dtype='object')\n",
      "Column Names After Renaming for DataFrame: Index(['yr_bp', 'co2_ppmv'], dtype='object')\n",
      "Original Column Names for DataFrame: Index(['yr_bp', 'co2_ppmv'], dtype='object')\n",
      "Column Names After Renaming for DataFrame: Index(['yr_bp', 'co2_ppmv'], dtype='object')\n",
      "Original Column Names for DataFrame: Index(['yr_bp', 'co2_ppmv'], dtype='object')\n",
      "Column Names After Renaming for DataFrame: Index(['yr_bp', 'co2_ppmv'], dtype='object')\n",
      "Original Column Names for DataFrame: Index(['yr_bp', 'co2_ppmv'], dtype='object')\n",
      "Column Names After Renaming for DataFrame: Index(['yr_bp', 'co2_ppmv'], dtype='object')\n",
      "Original Column Names for DataFrame: Index(['yr_bp', 'co2_ppmv'], dtype='object')\n",
      "Column Names After Renaming for DataFrame: Index(['yr_bp', 'co2_ppmv'], dtype='object')\n",
      "Original Column Names for DataFrame: Index(['yr_bp', 'co2_ppmv'], dtype='object')\n",
      "Column Names After Renaming for DataFrame: Index(['yr_bp', 'co2_ppmv'], dtype='object')\n",
      "Original Column Names for DataFrame: Index(['yr_bp', 'co2_ppmv'], dtype='object')\n",
      "Column Names After Renaming for DataFrame: Index(['yr_bp', 'co2_ppmv'], dtype='object')\n",
      "Original Column Names for DataFrame: Index(['yr_bp', 'co2_ppmv'], dtype='object')\n",
      "Column Names After Renaming for DataFrame: Index(['yr_bp', 'co2_ppmv'], dtype='object')\n",
      "   yr_bp co2_ppmv years_before_2023 calculated_year\n",
      "6    137    280.4              1886            3909\n",
      "7    268    274.9              1755            3778\n",
      "8    279    277.9              1744            3767\n",
      "9    395    279.1              1628            3651\n",
      "10   404    281.9              1619            3642\n"
     ]
    }
   ],
   "source": [
    "# List of DataFrames in the 'merged_data' variable\n",
    "merged_data = [monnin_luthi, pepin_luthi, siegenthaler_1_luthi, siegenthaler_2_luthi, luthi_luthi,\n",
    "               rubino, macfarling, monnin, marcott, ahn, bereiter, bereiter_2, schneider, petit,\n",
    "               siegenthaler, siegenthaler_2, bereiter_3]\n",
    "\n",
    "# Filter out non-DataFrame objects\n",
    "merged_data = [df for df in merged_data if isinstance(df, pd.DataFrame)]\n",
    "\n",
    "# Apply the processing function to all DataFrames in the merged dataset\n",
    "for df in merged_data:\n",
    "    process_dataframe(df)\n",
    "\n",
    "# Example: Print the head of one of the processed DataFrames\n",
    "print(monnin_luthi.head())\n"
   ]
  },
  {
   "cell_type": "markdown",
   "metadata": {},
   "source": [
    "Generating a column to compute the number of years before 2023 "
   ]
  },
  {
   "cell_type": "code",
   "execution_count": 202,
   "metadata": {},
   "outputs": [
    {
     "name": "stdout",
     "output_type": "stream",
     "text": [
      "Original Column Names for DataFrame: Index(['yr_bp', 'co2_ppmv', 'years_before_2023', 'calculated_year'], dtype='object')\n",
      "Column Names After Renaming for DataFrame: Index(['yr_bp', 'co2_ppmv', 'years_before_2023', 'calculated_year'], dtype='object')\n",
      "Original Column Names for DataFrame: Index(['yr_bp', 'co2_ppmv', 'years_before_2023', 'calculated_year'], dtype='object')\n",
      "Column Names After Renaming for DataFrame: Index(['yr_bp', 'co2_ppmv', 'years_before_2023', 'calculated_year'], dtype='object')\n",
      "Original Column Names for DataFrame: Index([], dtype='object')\n",
      "DataFrame is empty. Skipping processing.\n",
      "Original Column Names for DataFrame: Index(['yr_bp', 'co2_ppmv', 'years_before_2023', 'calculated_year'], dtype='object')\n",
      "Column Names After Renaming for DataFrame: Index(['yr_bp', 'co2_ppmv', 'years_before_2023', 'calculated_year'], dtype='object')\n",
      "Original Column Names for DataFrame: Index(['yr_bp', 'co2_ppmv', 'years_before_2023', 'calculated_year'], dtype='object')\n",
      "Column Names After Renaming for DataFrame: Index(['yr_bp', 'co2_ppmv', 'years_before_2023', 'calculated_year'], dtype='object')\n",
      "Original Column Names for DataFrame: Index(['yr_bp', 'co2_ppmv', 'years_before_2023', 'calculated_year'], dtype='object')\n",
      "Column Names After Renaming for DataFrame: Index(['yr_bp', 'co2_ppmv', 'years_before_2023', 'calculated_year'], dtype='object')\n",
      "Original Column Names for DataFrame: Index(['yr_bp', 'co2_ppmv', 'years_before_2023', 'calculated_year'], dtype='object')\n",
      "Column Names After Renaming for DataFrame: Index(['yr_bp', 'co2_ppmv', 'years_before_2023', 'calculated_year'], dtype='object')\n",
      "Original Column Names for DataFrame: Index(['yr_bp', 'co2_ppmv', 'years_before_2023', 'calculated_year'], dtype='object')\n",
      "Column Names After Renaming for DataFrame: Index(['yr_bp', 'co2_ppmv', 'years_before_2023', 'calculated_year'], dtype='object')\n",
      "Original Column Names for DataFrame: Index(['yr_bp', 'co2_ppmv', 'years_before_2023', 'calculated_year'], dtype='object')\n",
      "Column Names After Renaming for DataFrame: Index(['yr_bp', 'co2_ppmv', 'years_before_2023', 'calculated_year'], dtype='object')\n",
      "Original Column Names for DataFrame: Index(['yr_bp', 'co2_ppmv', 'years_before_2023', 'calculated_year'], dtype='object')\n",
      "Column Names After Renaming for DataFrame: Index(['yr_bp', 'co2_ppmv', 'years_before_2023', 'calculated_year'], dtype='object')\n",
      "Original Column Names for DataFrame: Index(['yr_bp', 'co2_ppmv', 'years_before_2023', 'calculated_year'], dtype='object')\n",
      "Column Names After Renaming for DataFrame: Index(['yr_bp', 'co2_ppmv', 'years_before_2023', 'calculated_year'], dtype='object')\n",
      "Original Column Names for DataFrame: Index(['yr_bp', 'co2_ppmv', 'years_before_2023', 'calculated_year'], dtype='object')\n",
      "Column Names After Renaming for DataFrame: Index(['yr_bp', 'co2_ppmv', 'years_before_2023', 'calculated_year'], dtype='object')\n",
      "Original Column Names for DataFrame: Index(['yr_bp', 'co2_ppmv', 'years_before_2023', 'calculated_year'], dtype='object')\n",
      "Column Names After Renaming for DataFrame: Index(['yr_bp', 'co2_ppmv', 'years_before_2023', 'calculated_year'], dtype='object')\n",
      "Original Column Names for DataFrame: Index(['yr_bp', 'co2_ppmv', 'years_before_2023', 'calculated_year'], dtype='object')\n",
      "Column Names After Renaming for DataFrame: Index(['yr_bp', 'co2_ppmv', 'years_before_2023', 'calculated_year'], dtype='object')\n",
      "Original Column Names for DataFrame: Index(['yr_bp', 'co2_ppmv', 'years_before_2023', 'calculated_year'], dtype='object')\n",
      "Column Names After Renaming for DataFrame: Index(['yr_bp', 'co2_ppmv', 'years_before_2023', 'calculated_year'], dtype='object')\n",
      "Original Column Names for DataFrame: Index(['yr_bp', 'co2_ppmv', 'years_before_2023', 'calculated_year'], dtype='object')\n",
      "Column Names After Renaming for DataFrame: Index(['yr_bp', 'co2_ppmv', 'years_before_2023', 'calculated_year'], dtype='object')\n",
      "Original Column Names for DataFrame: Index(['yr_bp', 'co2_ppmv', 'years_before_2023', 'calculated_year'], dtype='object')\n",
      "Column Names After Renaming for DataFrame: Index(['yr_bp', 'co2_ppmv', 'years_before_2023', 'calculated_year'], dtype='object')\n",
      "   yr_bp co2_ppmv years_before_2023 calculated_year\n",
      "6    137    280.4              1886            3909\n",
      "7    268    274.9              1755            3778\n",
      "8    279    277.9              1744            3767\n",
      "9    395    279.1              1628            3651\n",
      "10   404    281.9              1619            3642\n"
     ]
    }
   ],
   "source": [
    "def process_dataframe(df):\n",
    "    # Print the original column names\n",
    "    print(f\"Original Column Names for DataFrame: {df.columns}\")\n",
    "\n",
    "    # Check if the DataFrame is not empty\n",
    "    if not df.empty:\n",
    "        # Rename columns\n",
    "        df.rename(columns={'Unnamed: 1': 'yr_bp', 'Unnamed: 2': 'co2_ppmv'}, inplace=True)\n",
    "\n",
    "        # Print the column names after renaming\n",
    "        print(f\"Column Names After Renaming for DataFrame: {df.columns}\")\n",
    "\n",
    "        # Create a column that calculates the number of years before 2023\n",
    "        df['years_before_2023'] = 2023 - df['yr_bp']\n",
    "\n",
    "        # Create a column that calculates the year\n",
    "        df['calculated_year'] = 2023 + df['years_before_2023']\n",
    "\n",
    "        # Drop rows with null values\n",
    "        df.dropna(inplace=True)\n",
    "    else:\n",
    "        print(\"DataFrame is empty. Skipping processing.\")\n",
    "\n",
    "# Apply the processing function to all DataFrames in the merged dataset\n",
    "for df in merged_data:\n",
    "    process_dataframe(df)\n",
    "\n",
    "\n",
    "# Print the head of one of the processed DataFrames\n",
    "print(monnin_luthi[['yr_bp', 'co2_ppmv', 'years_before_2023', 'calculated_year']].head())\n",
    "\n"
   ]
  },
  {
   "cell_type": "markdown",
   "metadata": {},
   "source": [
    "# CO2 Data 1979 - 2023 \n",
    "Data is the most recent uptill date  data is gotten from https://gml.noaa.gov/webdata/ccgg/trends/co2/co2_mm_gl.txt accesed 01/01/2024"
   ]
  },
  {
   "cell_type": "markdown",
   "metadata": {},
   "source": [
    "read in the file"
   ]
  },
  {
   "cell_type": "code",
   "execution_count": 203,
   "metadata": {},
   "outputs": [],
   "source": [
    "CO2_noaa= 'https://gml.noaa.gov/webdata/ccgg/trends/co2/co2_mm_gl.txt'"
   ]
  }
 ],
 "metadata": {
  "kernelspec": {
   "display_name": "base",
   "language": "python",
   "name": "python3"
  },
  "language_info": {
   "codemirror_mode": {
    "name": "ipython",
    "version": 3
   },
   "file_extension": ".py",
   "mimetype": "text/x-python",
   "name": "python",
   "nbconvert_exporter": "python",
   "pygments_lexer": "ipython3",
   "version": "3.9.13"
  }
 },
 "nbformat": 4,
 "nbformat_minor": 2
}
