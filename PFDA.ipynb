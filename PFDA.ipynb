{
 "cells": [
  {
   "cell_type": "markdown",
   "metadata": {},
   "source": [
    "# programing for data analytics project"
   ]
  },
  {
   "cell_type": "code",
   "execution_count": 40,
   "metadata": {},
   "outputs": [],
   "source": [
    "import pandas as pd\n",
    "import numpy as np\n",
    "import matplotlib.pyplot as plt\n",
    "import seaborn as sns\n",
    "\n"
   ]
  },
  {
   "cell_type": "code",
   "execution_count": 41,
   "metadata": {},
   "outputs": [],
   "source": [
    "import pandas as pd\n",
    "\n",
    "# Load CO2 IPCC data\n",
    "CO2_IPCC_data = pd.read_csv('CO2IPCC.csv')\n",
    "\n",
    "# Load CO2 Luthi data\n",
    "CO2_Luthi_data = pd.read_csv('CO2Luthi.csv')\n",
    "\n",
    "# Load Irish climate data\n",
    "irish_climate_data = pd.read_csv('irish climate.csv')\n",
    "\n",
    "# Load Polar Ice data\n",
    "POLAR_ICE_data = pd.read_csv('POLAR ICE.csv')\n",
    "\n",
    "# Load Temp Jouzel data\n",
    "TEMP_JOUZEL_data = pd.read_csv('TEMPJOUZEL.csv')\n",
    "\n",
    "# Load Temp NOAA data\n",
    "TEMP_noaa_data = pd.read_csv('TEMPnoaa.csv')\n",
    "\n"
   ]
  }
 ],
 "metadata": {
  "kernelspec": {
   "display_name": "base",
   "language": "python",
   "name": "python3"
  },
  "language_info": {
   "codemirror_mode": {
    "name": "ipython",
    "version": 3
   },
   "file_extension": ".py",
   "mimetype": "text/x-python",
   "name": "python",
   "nbconvert_exporter": "python",
   "pygments_lexer": "ipython3",
   "version": "3.9.13"
  }
 },
 "nbformat": 4,
 "nbformat_minor": 2
}
