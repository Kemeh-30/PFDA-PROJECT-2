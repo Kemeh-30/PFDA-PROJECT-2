{
 "cells": [
  {
   "cell_type": "code",
   "execution_count": 1189,
   "metadata": {},
   "outputs": [],
   "source": [
    "# Programing for data analytics project 2"
   ]
  },
  {
   "cell_type": "markdown",
   "metadata": {},
   "source": [
    "# Question\n",
    "\n",
    "• Analyse CO2 vs Temperature Anomaly from 800kyrs – present.\n",
    "• Examine one other (paleo/modern) features (e.g. CH4 or polar ice-coverage)\n",
    "• Examine Irish context:\n",
    "o Climate change signals: (see Maynooth study: The emergence of a climate change\n",
    "signal in long-term Irish meteorological observations - ScienceDirect)\n",
    "• Fuse and analyse data from various data sources and format fused data set as a pandas\n",
    "dataframe and export to csv and json formats\n",
    "• For all of the above variables, analyse the data, the trends and the relationships between\n",
    "them (temporal leads/lags/frequency analysis).\n",
    "• Predict global temperature anomaly over next few decades (synthesise data) and compare to\n",
    "published climate models if atmospheric CO2 trends continue\n",
    "• Comment on accelerated warming based on very latest features (e.g. temperature/polar-icecoverage)\n",
    "Use a Jupyter notebook for your analysis and track your progress using GitHub.\n",
    "Use an academic referencing style"
   ]
  },
  {
   "cell_type": "markdown",
   "metadata": {},
   "source": [
    "# Import Required Libraries:"
   ]
  },
  {
   "cell_type": "code",
   "execution_count": 1190,
   "metadata": {},
   "outputs": [],
   "source": [
    "import pandas as pd\n",
    "import numpy as np\n",
    "import matplotlib.pyplot as plt\n",
    "from scipy.stats import linregress\n",
    "from sklearn.linear_model import LinearRegression\n",
    "from sklearn.model_selection import train_test_split\n",
    "from sklearn.metrics import mean_squared_error\n"
   ]
  },
  {
   "cell_type": "markdown",
   "metadata": {},
   "source": [
    "load data from c02 luthi"
   ]
  },
  {
   "cell_type": "code",
   "execution_count": 1191,
   "metadata": {},
   "outputs": [],
   "source": [
    "import pandas as pd\n",
    "\n",
    "# Load CO2 data from LUTHI\n",
    "CO2_LUTHI_path = 'C:\\\\Users\\\\fifoa\\\\OneDrive\\\\Desktop\\\\ATU\\\\PFDA-PROJECT-2\\\\CO2 LUTHI.xls'\n",
    "CO2_LUTHI_sheet1 = pd.read_excel(CO2_LUTHI_path, sheet_name='1.  new CO2 data')\n",
    "CO2_LUTHI_sheet2 = pd.read_excel(CO2_LUTHI_path, sheet_name='2.  Vostok-TD-Dome C')"
   ]
  },
  {
   "cell_type": "markdown",
   "metadata": {},
   "source": [
    "# Extract relevant columns"
   ]
  },
  {
   "cell_type": "code",
   "execution_count": 1192,
   "metadata": {},
   "outputs": [],
   "source": [
    "\n",
    "monnin_luthi = CO2_LUTHI_sheet2.iloc[6:189, 1:3]\n",
    "pepin_luthi = CO2_LUTHI_sheet2.iloc[19:353, 5:7]\n",
    "siegenthaler_1_luthi = CO2_LUTHI_sheet1.iloc[6:26, 16:18]\n",
    "siegenthaler_2_luthi = CO2_LUTHI_sheet2.iloc[6:328, 12:14]\n",
    "luthi_luthi = CO2_LUTHI_sheet1.iloc[16:253, 1:3]"
   ]
  },
  {
   "cell_type": "markdown",
   "metadata": {},
   "source": [
    "# Rename columns"
   ]
  },
  {
   "cell_type": "code",
   "execution_count": 1193,
   "metadata": {},
   "outputs": [],
   "source": [
    "\n",
    "monnin_luthi.rename(columns={'Unnamed: 1': 'yr_bp', 'Unnamed: 2': 'co2_ppmv'}, inplace=True)\n",
    "pepin_luthi.rename(columns={'Unnamed: 5': 'yr_bp', 'Unnamed: 6': 'co2_ppmv'}, inplace=True)\n",
    "siegenthaler_1_luthi.rename(columns={'Unnamed: 16': 'yr_bp', 'Unnamed: 17': 'co2_ppmv'}, inplace=True)\n",
    "siegenthaler_2_luthi.rename(columns={'Unnamed: 12': 'yr_bp', 'Unnamed: 13': 'co2_ppmv'}, inplace=True)\n",
    "luthi_luthi.rename(columns={'Unnamed: 1': 'yr_bp', 'Unnamed: 2': 'co2_ppmv'}, inplace=True)"
   ]
  },
  {
   "cell_type": "markdown",
   "metadata": {},
   "source": [
    "# Load CO2 data from IPCC"
   ]
  },
  {
   "cell_type": "code",
   "execution_count": 1194,
   "metadata": {},
   "outputs": [],
   "source": [
    "\n",
    "CO2_IPCC_path = 'C:\\\\Users\\\\fifoa\\\\OneDrive\\\\Desktop\\\\ATU\\\\PFDA-PROJECT-2\\\\CO2 IPCC.xlsx'\n",
    "CO2_IPCC_data = pd.read_excel(CO2_IPCC_path, sheet_name='all records')"
   ]
  },
  {
   "cell_type": "markdown",
   "metadata": {},
   "source": [
    "# Extract relevant columns"
   ]
  },
  {
   "cell_type": "code",
   "execution_count": 1195,
   "metadata": {},
   "outputs": [],
   "source": [
    "\n",
    "rubino = CO2_IPCC_data.iloc[90:, [83, 86]]\n",
    "macfarling = CO2_IPCC_data.iloc[137:, 68:70]\n",
    "monnin = CO2_IPCC_data.iloc[25:120, 2:4]\n",
    "marcott = CO2_IPCC_data.iloc[31:321, 98:100]\n",
    "ahn = CO2_IPCC_data.iloc[7:202, 89:91]\n",
    "bereiter = CO2_IPCC_data.iloc[28:106, 34:36]\n",
    "bereiter_2 = CO2_IPCC_data.iloc[60:154, 39:41]\n",
    "schneider = CO2_IPCC_data.iloc[6:, 65:67]\n",
    "petit = CO2_IPCC_data.iloc[124:348, 7:9]\n",
    "siegenthaler = CO2_IPCC_data.iloc[6:26, 20:22]\n",
    "siegenthaler_2 = CO2_IPCC_data.iloc[6:226, 15:17]\n",
    "bereiter_3 = CO2_IPCC_data.iloc[37:, 102:104]"
   ]
  },
  {
   "cell_type": "markdown",
   "metadata": {},
   "source": [
    "# Rename columns"
   ]
  },
  {
   "cell_type": "code",
   "execution_count": 1196,
   "metadata": {},
   "outputs": [],
   "source": [
    "\n",
    "rubino.rename(columns={'Unnamed: 83': 'yr_bp', 'Unnamed: 86': 'co2_ppmv'}, inplace=True)\n",
    "macfarling.rename(columns={'Law Dome (0-2 kyr BP)': 'yr_bp', 'Unnamed: 69': 'co2_ppmv'}, inplace=True)\n",
    "monnin.rename(columns={'Unnamed: 2': 'yr_bp', 'Unnamed: 3': 'co2_ppmv'}, inplace=True)\n",
    "marcott.rename(columns={'Unnamed: 98': 'yr_bp', 'Unnamed: 99': 'co2_ppmv'}, inplace=True)\n",
    "ahn.rename(columns={'Unnamed: 89': 'yr_bp', 'Unnamed: 90': 'co2_ppmv'}, inplace=True)\n",
    "bereiter.rename(columns={'Unnamed: 34': 'yr_bp', 'Unnamed: 35': 'co2_ppmv'}, inplace=True)\n",
    "bereiter_2.rename(columns={'Unnamed: 39': 'yr_bp', 'Unnamed: 40': 'co2_ppmv'}, inplace=True)\n",
    "schneider.rename(columns={'Unnamed: 65': 'yr_bp', 'Unnamed: 66': 'co2_ppmv'}, inplace=True)\n",
    "petit.rename(columns={'Unnamed: 7': 'yr_bp', 'Unnamed: 8': 'co2_ppmv'}, inplace=True)\n",
    "siegenthaler.rename(columns={'Unnamed: 20': 'yr_bp', 'Unnamed: 21': 'co2_ppmv'}, inplace=True)\n",
    "siegenthaler_2.rename(columns={'Unnamed: 15': 'yr_bp', 'Unnamed: 16': 'co2_ppmv'}, inplace=True)\n",
    "bereiter_3.rename(columns={'Unnamed: 102': 'yr_bp', 'Unnamed: 103': 'co2_ppmv'}, inplace=True)"
   ]
  },
  {
   "cell_type": "markdown",
   "metadata": {},
   "source": [
    "# Merge datasets"
   ]
  },
  {
   "cell_type": "code",
   "execution_count": 1197,
   "metadata": {},
   "outputs": [],
   "source": [
    "merged_data = pd.concat([monnin_luthi, pepin_luthi, siegenthaler_1_luthi, siegenthaler_2_luthi, luthi_luthi,\n",
    "                         rubino, macfarling, monnin, marcott, ahn, bereiter, bereiter_2, schneider, petit,\n",
    "                         siegenthaler, siegenthaler_2, bereiter_3], ignore_index=True)"
   ]
  },
  {
   "cell_type": "markdown",
   "metadata": {},
   "source": [
    "# Explore the merged dataset"
   ]
  },
  {
   "cell_type": "code",
   "execution_count": 1198,
   "metadata": {},
   "outputs": [
    {
     "name": "stdout",
     "output_type": "stream",
     "text": [
      "  yr_bp co2_ppmv\n",
      "0   137    280.4\n",
      "1   268    274.9\n",
      "2   279    277.9\n",
      "3   395    279.1\n",
      "4   404    281.9\n"
     ]
    }
   ],
   "source": [
    "# Explore the merged dataset\n",
    "print(merged_data.head())"
   ]
  },
  {
   "cell_type": "markdown",
   "metadata": {},
   "source": [
    "# CLENAING out non-DataFrame (EMPTY DATA FRAMES) objects from the merged_data,THIS WILL SKIP EMPTY DATAFRAMES"
   ]
  },
  {
   "cell_type": "code",
   "execution_count": 1199,
   "metadata": {},
   "outputs": [],
   "source": [
    "# List of DataFrames in the 'merged_data' variable\n",
    "merged_data = [monnin_luthi, pepin_luthi, siegenthaler_1_luthi, siegenthaler_2_luthi, luthi_luthi,\n",
    "               rubino, macfarling, monnin, marcott, ahn, bereiter, bereiter_2, schneider, petit,\n",
    "               siegenthaler, siegenthaler_2, bereiter_3]\n",
    "\n",
    "# Filter out non-DataFrame objects\n",
    "merged_data = [df for df in merged_data if isinstance(df, pd.DataFrame)]\n"
   ]
  },
  {
   "cell_type": "markdown",
   "metadata": {},
   "source": [
    "Generating a column to compute the number of years before 2023 "
   ]
  },
  {
   "cell_type": "code",
   "execution_count": 1200,
   "metadata": {},
   "outputs": [],
   "source": [
    "import pandas as pd\n",
    "\n",
    "def process_dataframe(df):\n",
    "    # Print the original column names\n",
    "    print(f\"Original Column Names for DataFrame: {df.columns}\")\n",
    "\n",
    "    # Check if the DataFrame is not empty\n",
    "    if not df.empty:\n",
    "        # Rename columns\n",
    "        df.rename(columns={'Unnamed: 1': 'yr_bp', 'Unnamed: 2': 'co2_ppmv'}, inplace=True)\n",
    "\n",
    "        # Print the column names after renaming\n",
    "        print(f\"Column Names After Renaming for DataFrame: {df.columns}\")\n",
    "\n",
    "        # Create a column that calculates the number of years before 2023\n",
    "        df['years_before_2023'] = 2023 - df['yr_bp']\n",
    "\n",
    "        # Create a column that calculates the year\n",
    "        df['calculated_year'] = 2023 + df['years_before_2023']\n",
    "\n",
    "        # Drop rows with null values\n",
    "        df.dropna(inplace=True)\n",
    "    else:\n",
    "        print(\"DataFrame is empty. Skipping processing.\")\n",
    "\n"
   ]
  },
  {
   "cell_type": "markdown",
   "metadata": {},
   "source": [
    "runing  loop to apply the process_dataframe function to each DataFrame and print the head of one of the processed DataFrames:"
   ]
  },
  {
   "cell_type": "code",
   "execution_count": 1201,
   "metadata": {},
   "outputs": [
    {
     "name": "stdout",
     "output_type": "stream",
     "text": [
      "Original Column Names for DataFrame: Index(['yr_bp', 'co2_ppmv'], dtype='object')\n",
      "Column Names After Renaming for DataFrame: Index(['yr_bp', 'co2_ppmv'], dtype='object')\n",
      "Original Column Names for DataFrame: Index(['yr_bp', 'co2_ppmv'], dtype='object')\n",
      "Column Names After Renaming for DataFrame: Index(['yr_bp', 'co2_ppmv'], dtype='object')\n",
      "Original Column Names for DataFrame: Index([], dtype='object')\n",
      "DataFrame is empty. Skipping processing.\n",
      "Original Column Names for DataFrame: Index(['yr_bp', 'co2_ppmv'], dtype='object')\n",
      "Column Names After Renaming for DataFrame: Index(['yr_bp', 'co2_ppmv'], dtype='object')\n",
      "Original Column Names for DataFrame: Index(['yr_bp', 'co2_ppmv'], dtype='object')\n",
      "Column Names After Renaming for DataFrame: Index(['yr_bp', 'co2_ppmv'], dtype='object')\n",
      "Original Column Names for DataFrame: Index(['yr_bp', 'co2_ppmv'], dtype='object')\n",
      "Column Names After Renaming for DataFrame: Index(['yr_bp', 'co2_ppmv'], dtype='object')\n",
      "Original Column Names for DataFrame: Index(['yr_bp', 'co2_ppmv'], dtype='object')\n",
      "Column Names After Renaming for DataFrame: Index(['yr_bp', 'co2_ppmv'], dtype='object')\n",
      "Original Column Names for DataFrame: Index(['yr_bp', 'co2_ppmv'], dtype='object')\n",
      "Column Names After Renaming for DataFrame: Index(['yr_bp', 'co2_ppmv'], dtype='object')\n",
      "Original Column Names for DataFrame: Index(['yr_bp', 'co2_ppmv'], dtype='object')\n",
      "Column Names After Renaming for DataFrame: Index(['yr_bp', 'co2_ppmv'], dtype='object')\n",
      "Original Column Names for DataFrame: Index(['yr_bp', 'co2_ppmv'], dtype='object')\n",
      "Column Names After Renaming for DataFrame: Index(['yr_bp', 'co2_ppmv'], dtype='object')\n",
      "Original Column Names for DataFrame: Index(['yr_bp', 'co2_ppmv'], dtype='object')\n",
      "Column Names After Renaming for DataFrame: Index(['yr_bp', 'co2_ppmv'], dtype='object')\n",
      "Original Column Names for DataFrame: Index(['yr_bp', 'co2_ppmv'], dtype='object')\n",
      "Column Names After Renaming for DataFrame: Index(['yr_bp', 'co2_ppmv'], dtype='object')\n",
      "Original Column Names for DataFrame: Index(['yr_bp', 'co2_ppmv'], dtype='object')\n",
      "Column Names After Renaming for DataFrame: Index(['yr_bp', 'co2_ppmv'], dtype='object')\n",
      "Original Column Names for DataFrame: Index(['yr_bp', 'co2_ppmv'], dtype='object')\n",
      "Column Names After Renaming for DataFrame: Index(['yr_bp', 'co2_ppmv'], dtype='object')\n",
      "Original Column Names for DataFrame: Index(['yr_bp', 'co2_ppmv'], dtype='object')\n",
      "Column Names After Renaming for DataFrame: Index(['yr_bp', 'co2_ppmv'], dtype='object')\n",
      "Original Column Names for DataFrame: Index(['yr_bp', 'co2_ppmv'], dtype='object')\n",
      "Column Names After Renaming for DataFrame: Index(['yr_bp', 'co2_ppmv'], dtype='object')\n",
      "Original Column Names for DataFrame: Index(['yr_bp', 'co2_ppmv'], dtype='object')\n",
      "Column Names After Renaming for DataFrame: Index(['yr_bp', 'co2_ppmv'], dtype='object')\n",
      "   yr_bp co2_ppmv years_before_2023 calculated_year\n",
      "6    137    280.4              1886            3909\n",
      "7    268    274.9              1755            3778\n",
      "8    279    277.9              1744            3767\n",
      "9    395    279.1              1628            3651\n",
      "10   404    281.9              1619            3642\n"
     ]
    }
   ],
   "source": [
    "# Apply the processing function to all DataFrames in the merged dataset\n",
    "for df in merged_data:\n",
    "    process_dataframe(df)\n",
    "\n",
    "# Example: Print the head of one of the processed DataFrames\n",
    "print(monnin_luthi.head())\n"
   ]
  },
  {
   "cell_type": "markdown",
   "metadata": {},
   "source": [
    "# CO2 Data 1979 - 2023 \n",
    "Data is the most recent uptill date  data is gotten from https://gml.noaa.gov/webdata/ccgg/trends/co2/co2_mm_gl.txt accesed 01/01/2024"
   ]
  },
  {
   "cell_type": "markdown",
   "metadata": {},
   "source": [
    "Loading in the file"
   ]
  },
  {
   "cell_type": "code",
   "execution_count": 1202,
   "metadata": {},
   "outputs": [],
   "source": [
    "co2_global_csv = pd.read_csv(r'C:\\Users\\fifoa\\OneDrive\\Desktop\\ATU\\PFDA-PROJECT-2\\co2global.csv')\n",
    "\n"
   ]
  },
  {
   "cell_type": "code",
   "execution_count": 1203,
   "metadata": {},
   "outputs": [
    {
     "name": "stdout",
     "output_type": "stream",
     "text": [
      "Index(['year', 'month                    ', 'decimal   ', 'average ',\n",
      "       ' average_unc ', 'Trend   ', ' trend_unc'],\n",
      "      dtype='object')\n"
     ]
    }
   ],
   "source": [
    "print(co2_global_csv.columns)\n"
   ]
  },
  {
   "cell_type": "code",
   "execution_count": 1204,
   "metadata": {},
   "outputs": [
    {
     "name": "stdout",
     "output_type": "stream",
     "text": [
      "   year  month                      decimal     average    average_unc   \\\n",
      "0  1979                          1    1979.042    336.56           0.11   \n",
      "1  1979                          2    1979.125    337.29           0.09   \n",
      "2  1979                          3    1979.208    337.88           0.11   \n",
      "3  1979                          4    1979.292    338.32           0.12   \n",
      "4  1979                          5    1979.375    338.26           0.03   \n",
      "\n",
      "   Trend      trend_unc  \n",
      "0    335.92        0.09  \n",
      "1    336.25        0.10  \n",
      "2    336.51        0.10  \n",
      "3    336.72        0.10  \n",
      "4    336.71        0.10  \n"
     ]
    }
   ],
   "source": [
    "# Print the first 5 rows of the DataFrame\n",
    "print(co2_global_csv.head())\n",
    "\n",
    "\n",
    "\n"
   ]
  },
  {
   "cell_type": "markdown",
   "metadata": {},
   "source": [
    "drop columns"
   ]
  },
  {
   "cell_type": "code",
   "execution_count": 1205,
   "metadata": {},
   "outputs": [],
   "source": [
    "# Remove leading and trailing whitespaces from column names\n",
    "co2_global_csv.columns = co2_global_csv.columns.str.strip()"
   ]
  },
  {
   "cell_type": "code",
   "execution_count": 1206,
   "metadata": {},
   "outputs": [
    {
     "name": "stdout",
     "output_type": "stream",
     "text": [
      "   year  month   decimal  average  average_unc  trend_unc\n",
      "0  1979      1  1979.042   336.56         0.11       0.09\n",
      "1  1979      2  1979.125   337.29         0.09       0.10\n",
      "2  1979      3  1979.208   337.88         0.11       0.10\n",
      "3  1979      4  1979.292   338.32         0.12       0.10\n",
      "4  1979      5  1979.375   338.26         0.03       0.10\n"
     ]
    }
   ],
   "source": [
    "# Drop the 'Trend' column\n",
    "co2_global_csv.drop(columns=['Trend'], inplace=True)\n",
    "\n",
    "# Print the DataFrame after dropping the column\n",
    "print(co2_global_csv.head())\n",
    "\n",
    "\n"
   ]
  },
  {
   "cell_type": "markdown",
   "metadata": {},
   "source": []
  },
  {
   "cell_type": "code",
   "execution_count": 1207,
   "metadata": {},
   "outputs": [
    {
     "data": {
      "text/html": [
       "<div>\n",
       "<style scoped>\n",
       "    .dataframe tbody tr th:only-of-type {\n",
       "        vertical-align: middle;\n",
       "    }\n",
       "\n",
       "    .dataframe tbody tr th {\n",
       "        vertical-align: top;\n",
       "    }\n",
       "\n",
       "    .dataframe thead th {\n",
       "        text-align: right;\n",
       "    }\n",
       "</style>\n",
       "<table border=\"1\" class=\"dataframe\">\n",
       "  <thead>\n",
       "    <tr style=\"text-align: right;\">\n",
       "      <th></th>\n",
       "      <th>year</th>\n",
       "      <th>month</th>\n",
       "      <th>decimal</th>\n",
       "      <th>average</th>\n",
       "      <th>average_unc</th>\n",
       "      <th>trend_unc</th>\n",
       "    </tr>\n",
       "  </thead>\n",
       "  <tbody>\n",
       "    <tr>\n",
       "      <th>0</th>\n",
       "      <td>1979</td>\n",
       "      <td>1</td>\n",
       "      <td>1979.042</td>\n",
       "      <td>336.56</td>\n",
       "      <td>0.11</td>\n",
       "      <td>0.09</td>\n",
       "    </tr>\n",
       "    <tr>\n",
       "      <th>1</th>\n",
       "      <td>1979</td>\n",
       "      <td>2</td>\n",
       "      <td>1979.125</td>\n",
       "      <td>337.29</td>\n",
       "      <td>0.09</td>\n",
       "      <td>0.10</td>\n",
       "    </tr>\n",
       "    <tr>\n",
       "      <th>2</th>\n",
       "      <td>1979</td>\n",
       "      <td>3</td>\n",
       "      <td>1979.208</td>\n",
       "      <td>337.88</td>\n",
       "      <td>0.11</td>\n",
       "      <td>0.10</td>\n",
       "    </tr>\n",
       "    <tr>\n",
       "      <th>3</th>\n",
       "      <td>1979</td>\n",
       "      <td>4</td>\n",
       "      <td>1979.292</td>\n",
       "      <td>338.32</td>\n",
       "      <td>0.12</td>\n",
       "      <td>0.10</td>\n",
       "    </tr>\n",
       "    <tr>\n",
       "      <th>4</th>\n",
       "      <td>1979</td>\n",
       "      <td>5</td>\n",
       "      <td>1979.375</td>\n",
       "      <td>338.26</td>\n",
       "      <td>0.03</td>\n",
       "      <td>0.10</td>\n",
       "    </tr>\n",
       "    <tr>\n",
       "      <th>...</th>\n",
       "      <td>...</td>\n",
       "      <td>...</td>\n",
       "      <td>...</td>\n",
       "      <td>...</td>\n",
       "      <td>...</td>\n",
       "      <td>...</td>\n",
       "    </tr>\n",
       "    <tr>\n",
       "      <th>532</th>\n",
       "      <td>2023</td>\n",
       "      <td>5</td>\n",
       "      <td>2023.375</td>\n",
       "      <td>420.54</td>\n",
       "      <td>0.10</td>\n",
       "      <td>0.06</td>\n",
       "    </tr>\n",
       "    <tr>\n",
       "      <th>533</th>\n",
       "      <td>2023</td>\n",
       "      <td>6</td>\n",
       "      <td>2023.458</td>\n",
       "      <td>419.53</td>\n",
       "      <td>0.10</td>\n",
       "      <td>0.06</td>\n",
       "    </tr>\n",
       "    <tr>\n",
       "      <th>534</th>\n",
       "      <td>2023</td>\n",
       "      <td>7</td>\n",
       "      <td>2023.542</td>\n",
       "      <td>417.83</td>\n",
       "      <td>0.10</td>\n",
       "      <td>0.06</td>\n",
       "    </tr>\n",
       "    <tr>\n",
       "      <th>535</th>\n",
       "      <td>2023</td>\n",
       "      <td>8</td>\n",
       "      <td>2023.625</td>\n",
       "      <td>416.53</td>\n",
       "      <td>0.10</td>\n",
       "      <td>0.06</td>\n",
       "    </tr>\n",
       "    <tr>\n",
       "      <th>536</th>\n",
       "      <td>2023</td>\n",
       "      <td>9</td>\n",
       "      <td>2023.708</td>\n",
       "      <td>416.83</td>\n",
       "      <td>0.10</td>\n",
       "      <td>0.06</td>\n",
       "    </tr>\n",
       "  </tbody>\n",
       "</table>\n",
       "<p>537 rows × 6 columns</p>\n",
       "</div>"
      ],
      "text/plain": [
       "     year  month   decimal  average  average_unc  trend_unc\n",
       "0    1979      1  1979.042   336.56         0.11       0.09\n",
       "1    1979      2  1979.125   337.29         0.09       0.10\n",
       "2    1979      3  1979.208   337.88         0.11       0.10\n",
       "3    1979      4  1979.292   338.32         0.12       0.10\n",
       "4    1979      5  1979.375   338.26         0.03       0.10\n",
       "..    ...    ...       ...      ...          ...        ...\n",
       "532  2023      5  2023.375   420.54         0.10       0.06\n",
       "533  2023      6  2023.458   419.53         0.10       0.06\n",
       "534  2023      7  2023.542   417.83         0.10       0.06\n",
       "535  2023      8  2023.625   416.53         0.10       0.06\n",
       "536  2023      9  2023.708   416.83         0.10       0.06\n",
       "\n",
       "[537 rows x 6 columns]"
      ]
     },
     "execution_count": 1207,
     "metadata": {},
     "output_type": "execute_result"
    }
   ],
   "source": [
    "co2_global_csv"
   ]
  }
 ],
 "metadata": {
  "kernelspec": {
   "display_name": "base",
   "language": "python",
   "name": "python3"
  },
  "language_info": {
   "codemirror_mode": {
    "name": "ipython",
    "version": 3
   },
   "file_extension": ".py",
   "mimetype": "text/x-python",
   "name": "python",
   "nbconvert_exporter": "python",
   "pygments_lexer": "ipython3",
   "version": "3.9.13"
  }
 },
 "nbformat": 4,
 "nbformat_minor": 2
}
