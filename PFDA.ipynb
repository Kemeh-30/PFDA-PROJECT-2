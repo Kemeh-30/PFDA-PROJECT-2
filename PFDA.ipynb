{
 "cells": [
  {
   "cell_type": "markdown",
   "metadata": {},
   "source": [
    "# Programing for data analytics project 2"
   ]
  },
  {
   "cell_type": "markdown",
   "metadata": {},
   "source": [
    "# Question\n",
    "\n",
    "• Analyse CO2 vs Temperature Anomaly from 800kyrs – present.\n",
    "• Examine one other (paleo/modern) features (e.g. CH4 or polar ice-coverage)\n",
    "• Examine Irish context:\n",
    "o Climate change signals: (see Maynooth study: The emergence of a climate change\n",
    "signal in long-term Irish meteorological observations - ScienceDirect)\n",
    "• Fuse and analyse data from various data sources and format fused data set as a pandas\n",
    "dataframe and export to csv and json formats\n",
    "• For all of the above variables, analyse the data, the trends and the relationships between\n",
    "them (temporal leads/lags/frequency analysis).\n",
    "• Predict global temperature anomaly over next few decades (synthesise data) and compare to\n",
    "published climate models if atmospheric CO2 trends continue\n",
    "• Comment on accelerated warming based on very latest features (e.g. temperature/polar-icecoverage)\n",
    "Use a Jupyter notebook for your analysis and track your progress using GitHub.\n",
    "Use an academic referencing style"
   ]
  },
  {
   "cell_type": "markdown",
   "metadata": {},
   "source": [
    "# Import Required Libraries:"
   ]
  },
  {
   "cell_type": "code",
   "execution_count": null,
   "metadata": {},
   "outputs": [],
   "source": [
    "import pandas as pd\n",
    "import matplotlib.pyplot as plt\n",
    "import seaborn as sns\n",
    "import numpy as np\n",
    "from sklearn.linear_model import LinearRegression\n",
    "from scipy import signal\n",
    "from datetime import date\n"
   ]
  },
  {
   "cell_type": "markdown",
   "metadata": {},
   "source": [
    "# import data"
   ]
  },
  {
   "cell_type": "code",
   "execution_count": null,
   "metadata": {},
   "outputs": [],
   "source": [
    "import pandas as pd\n",
    "\n",
    "# Load CO2 IPCC data\n",
    "CO2_IPCC_data = pd.read_csv(r'C:\\Users\\fifoa\\OneDrive\\Desktop\\ATU\\PFDA-PROJECT-2\\CO2IPCC.csv')\n",
    "\n",
    "# Load CO2 Luthi data\n",
    "CO2_Luthi_data = pd.read_csv(r'C:\\Users\\fifoa\\OneDrive\\Desktop\\ATU\\PFDA-PROJECT-2\\CO2Luthi.csv')\n",
    "\n",
    "# Load Irish climate data\n",
    "irish_climate_data = pd.read_csv(r'C:\\Users\\fifoa\\OneDrive\\Desktop\\ATU\\PFDA-PROJECT-2\\irish climate.csv')\n",
    "\n",
    "# Load Polar Ice data\n",
    "POLAR_ICE_data = pd.read_csv(r'C:\\Users\\fifoa\\OneDrive\\Desktop\\ATU\\PFDA-PROJECT-2\\POLAR ICE.csv')\n",
    "\n",
    "# Load Temp Jouzel data\n",
    "TEMP_JOUZEL_data = pd.read_csv(r'C:\\Users\\fifoa\\OneDrive\\Desktop\\ATU\\PFDA-PROJECT-2\\TEMPJOUZEL.csv')\n",
    "\n",
    "# Load Temp NOAA data\n",
    "TEMP_noaa_data = pd.read_csv(r'C:\\Users\\fifoa\\OneDrive\\Desktop\\ATU\\PFDA-PROJECT-2\\TEMPnoaa.csv')\n"
   ]
  },
  {
   "cell_type": "markdown",
   "metadata": {},
   "source": [
    "# Check Data Samples:"
   ]
  },
  {
   "cell_type": "code",
   "execution_count": null,
   "metadata": {},
   "outputs": [],
   "source": [
    "print(\"CO2 IPCC Data Sample:\")\n",
    "print(CO2_IPCC_data.head())\n",
    "\n",
    "print(\"\\nCO2 Luthi Data Sample:\")\n",
    "print(CO2_Luthi_data.head())\n",
    "\n",
    "print(\"\\nIrish Climate Data Sample:\")\n",
    "print(irish_climate_data.head())\n",
    "\n",
    "print(\"\\nPolar Ice Data Sample:\")\n",
    "print(POLAR_ICE_data.head())\n",
    "\n",
    "print(\"\\nTemp Jouzel Data Sample:\")\n",
    "print(TEMP_JOUZEL_data.head())\n",
    "\n",
    "print(\"\\nTemp NOAA Data Sample:\")\n",
    "print(TEMP_noaa_data.head())\n",
    "\n"
   ]
  },
  {
   "cell_type": "markdown",
   "metadata": {},
   "source": []
  },
  {
   "cell_type": "code",
   "execution_count": null,
   "metadata": {},
   "outputs": [],
   "source": [
    "# Assuming 'timestamp' is the common column in all datasets\n",
    "# Merge CO2 data\n",
    "merged_data = pd.merge(CO2_IPCC_data, CO2_Luthi_data, on='timestamp', how='outer', suffixes=('_IPCC', '_Luthi'))\n",
    "\n",
    "# Merge temperature data\n",
    "merged_data = pd.merge(merged_data, TEMP_JOUZEL_data, on='timestamp', how='outer', suffixes=('_CO2', '_Jouzel'))\n",
    "merged_data = pd.merge(merged_data, TEMP_noaa_data, on='timestamp', how='outer', suffixes=('_Jouzel', '_NOAA'))\n",
    "\n",
    "# Merge Irish climate data\n",
    "merged_data = pd.merge(merged_data, irish_climate_data, on='timestamp', how='outer', suffixes=('_Temperature', '_Irish'))\n",
    "\n",
    "# Merge Polar Ice data\n",
    "merged_data = pd.merge(merged_data, POLAR_ICE_data, on='timestamp', how='outer', suffixes=('_Irish', '_Polar'))\n",
    "\n",
    "# Display the first few rows of the merged DataFrame\n",
    "merged_data.head()\n"
   ]
  },
  {
   "cell_type": "markdown",
   "metadata": {},
   "source": [
    "# IDENTIFYING NON NUMERIC DATA FOR POLAR ICE DATA"
   ]
  },
  {
   "cell_type": "code",
   "execution_count": null,
   "metadata": {},
   "outputs": [],
   "source": [
    "# Identify columns with non-numeric values\n",
    "non_numeric_columns = POLAR_ICE_data.select_dtypes(exclude=['number']).columns\n",
    "print(\"Columns with non-numeric values:\", non_numeric_columns)\n",
    "\n",
    "# Print unique values in those columns\n",
    "for column in non_numeric_columns:\n",
    "    unique_values = POLAR_ICE_data[column].unique()\n",
    "    print(f\"Unique values in {column}: {unique_values}\")\n"
   ]
  },
  {
   "cell_type": "code",
   "execution_count": null,
   "metadata": {},
   "outputs": [],
   "source": [
    "# Example: Replace non-numeric values with NaN\n",
    "POLAR_ICE_data[non_numeric_columns] = POLAR_ICE_data[non_numeric_columns].apply(pd.to_numeric, errors='coerce')\n",
    "\n",
    "# Continue with z-score calculation\n",
    "z_scores = zscore(POLAR_ICE_data)\n",
    "outliers = (z_scores > 3) | (z_scores < -3)\n",
    "POLAR_ICE_data = POLAR_ICE_data[~outliers.any(axis=1)]\n"
   ]
  },
  {
   "cell_type": "code",
   "execution_count": null,
   "metadata": {},
   "outputs": [],
   "source": [
    "# Check data types after handling non-numeric values\n",
    "print(POLAR_ICE_data.dtypes)\n"
   ]
  },
  {
   "cell_type": "code",
   "execution_count": null,
   "metadata": {},
   "outputs": [],
   "source": [
    "from scipy.stats import zscore\n",
    "\n",
    "z_scores = zscore(POLAR_ICE_data)\n",
    "outliers = (z_scores > 3) | (z_scores < -3)\n",
    "POLAR_ICE_data = POLAR_ICE_data[~outliers.any(axis=1)]"
   ]
  },
  {
   "cell_type": "code",
   "execution_count": null,
   "metadata": {},
   "outputs": [],
   "source": [
    "from scipy.stats import zscore\n",
    "\n",
    "z_scores = zscore(TEMP_JOUZEL_data)\n",
    "outliers = (z_scores > 3) | (z_scores < -3)\n",
    "TEMP_JOUZEL_data = TEMP_JOUZEL_data[~outliers.any(axis=1)]"
   ]
  },
  {
   "cell_type": "markdown",
   "metadata": {},
   "source": [
    "# identifying colums with non numeric values for data Tempnoaa"
   ]
  },
  {
   "cell_type": "code",
   "execution_count": null,
   "metadata": {},
   "outputs": [],
   "source": [
    "# Identify columns with non-numeric values\n",
    "non_numeric_columns = TEMP_noaa_data.select_dtypes(exclude=['number']).columns\n",
    "print(\"Columns with non-numeric values:\", non_numeric_columns)\n",
    "\n",
    "# Print unique values in those columns\n",
    "for column in non_numeric_columns:\n",
    "    unique_values = TEMP_noaa_data[column].unique()\n",
    "    print(f\"Unique values in {column}: {unique_values}\")\n"
   ]
  },
  {
   "cell_type": "code",
   "execution_count": null,
   "metadata": {},
   "outputs": [],
   "source": [
    "# Example: Replace non-numeric values with NaN\n",
    "TEMP_noaa_data[non_numeric_columns] = TEMP_noaa_data[non_numeric_columns].apply(pd.to_numeric, errors='coerce')\n",
    "\n",
    "# Continue with z-score calculation\n",
    "z_scores = zscore(TEMP_noaa_data)\n",
    "outliers = (z_scores > 3) | (z_scores < -3)\n",
    "TEMP_noaa_data = TEMP_noaa_data[~outliers.any(axis=1)]\n"
   ]
  },
  {
   "cell_type": "code",
   "execution_count": null,
   "metadata": {},
   "outputs": [],
   "source": [
    "# Check data types after handling non-numeric values\n",
    "print(TEMP_noaa_data.dtypes)\n"
   ]
  },
  {
   "cell_type": "code",
   "execution_count": null,
   "metadata": {},
   "outputs": [],
   "source": [
    "from scipy.stats import zscore\n",
    "\n",
    "z_scores = zscore(TEMP_noaa_data)\n",
    "outliers = (z_scores > 3) | (z_scores < -3)\n",
    "TEMP_noaa_data = TEMP_noaa_data[~outliers.any(axis=1)]"
   ]
  },
  {
   "cell_type": "code",
   "execution_count": null,
   "metadata": {},
   "outputs": [],
   "source": [
    "# Print the columns in each dataframe\n",
    "print(\"Columns in CO2 IPCC Data:\")\n",
    "print(CO2_IPCC_data.columns)\n",
    "\n",
    "print(\"\\nColumns in CO2 Luthi Data:\")\n",
    "print(CO2_Luthi_data.columns)\n",
    "\n",
    "print(\"\\nColumns in Polar Ice Data:\")\n",
    "print(POLAR_ICE_data.columns)\n",
    "\n",
    "print(\"\\nColumns in Temp NOAA Data:\")\n",
    "print(TEMP_noaa_data.columns)\n",
    "\n",
    "print(\"\\nColumns in Temp Jouzel Data:\")\n",
    "print(TEMP_JOUZEL_data.columns)\n"
   ]
  },
  {
   "cell_type": "code",
   "execution_count": null,
   "metadata": {},
   "outputs": [],
   "source": [
    "# Filter CO2 IPCC data\n",
    "CO2_IPCC_data = CO2_IPCC_data[CO2_IPCC_data['age'] >= 800000]\n",
    "\n",
    "# Filter CO2 Luthi data\n",
    "CO2_Luthi_data = CO2_Luthi_data[CO2_Luthi_data['age'] >= 800000]\n",
    "\n",
    "# Filter Polar Ice data\n",
    "POLAR_ICE_data = POLAR_ICE_data[POLAR_ICE_data['age'] >= 800000]\n",
    "\n",
    "# Filter Temp NOAA data\n",
    "TEMP_noaa_data = TEMP_noaa_data[TEMP_noaa_data['age'] >= 800000]\n",
    "\n",
    "# Filter Temp Jouzel data\n",
    "TEMP_JOUZEL_data = TEMP_JOUZEL_data[TEMP_JOUZEL_data['age'] >= 800000]\n"
   ]
  },
  {
   "cell_type": "markdown",
   "metadata": {},
   "source": [
    "# data formating "
   ]
  },
  {
   "cell_type": "code",
   "execution_count": null,
   "metadata": {},
   "outputs": [],
   "source": [
    "# Convert date columns to datetime format\n",
    "CO2_IPCC_data['Date'] = pd.to_datetime(CO2_IPCC_data['Date'])\n",
    "\n",
    "# Set the date column as the index\n",
    "CO2_IPCC_data.set_index('Date', inplace=True)\n"
   ]
  }
 ],
 "metadata": {
  "kernelspec": {
   "display_name": "base",
   "language": "python",
   "name": "python3"
  },
  "language_info": {
   "codemirror_mode": {
    "name": "ipython",
    "version": 3
   },
   "file_extension": ".py",
   "mimetype": "text/x-python",
   "name": "python",
   "nbconvert_exporter": "python",
   "pygments_lexer": "ipython3",
   "version": "3.9.13"
  }
 },
 "nbformat": 4,
 "nbformat_minor": 2
}
