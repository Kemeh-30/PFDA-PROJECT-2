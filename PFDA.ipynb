{
 "cells": [
  {
   "cell_type": "code",
   "execution_count": 6804,
   "metadata": {},
   "outputs": [],
   "source": [
    "# Programing for data analytics project 2"
   ]
  },
  {
   "cell_type": "markdown",
   "metadata": {},
   "source": [
    "# Question\n",
    "\n",
    "• Analyse CO2 vs Temperature Anomaly from 800kyrs – present.\n",
    "• Examine one other (paleo/modern) features (e.g. CH4 or polar ice-coverage)\n",
    "• Examine Irish context:\n",
    "o Climate change signals: (see Maynooth study: The emergence of a climate change\n",
    "signal in long-term Irish meteorological observations - ScienceDirect)\n",
    "• Fuse and analyse data from various data sources and format fused data set as a pandas\n",
    "dataframe and export to csv and json formats\n",
    "• For all of the above variables, analyse the data, the trends and the relationships between\n",
    "them (temporal leads/lags/frequency analysis).\n",
    "• Predict global temperature anomaly over next few decades (synthesise data) and compare to\n",
    "published climate models if atmospheric CO2 trends continue\n",
    "• Comment on accelerated warming based on very latest features (e.g. temperature/polar-icecoverage)\n",
    "Use a Jupyter notebook for your analysis and track your progress using GitHub.\n",
    "Use an academic referencing style"
   ]
  },
  {
   "cell_type": "markdown",
   "metadata": {},
   "source": [
    "# Import Required Libraries:"
   ]
  },
  {
   "cell_type": "code",
   "execution_count": 6805,
   "metadata": {},
   "outputs": [],
   "source": [
    "import pandas as pd\n",
    "import numpy as np\n",
    "import matplotlib.pyplot as plt\n",
    "from scipy.stats import linregress\n",
    "from sklearn.linear_model import LinearRegression\n",
    "from sklearn.model_selection import train_test_split\n",
    "from sklearn.metrics import mean_squared_error\n"
   ]
  },
  {
   "cell_type": "markdown",
   "metadata": {},
   "source": [
    "load data from c02 luthi"
   ]
  },
  {
   "cell_type": "code",
   "execution_count": 6806,
   "metadata": {},
   "outputs": [],
   "source": [
    "import pandas as pd\n",
    "\n",
    "# Load CO2 data from LUTHI\n",
    "CO2_LUTHI_path = 'C:\\\\Users\\\\fifoa\\\\OneDrive\\\\Desktop\\\\ATU\\\\PFDA-PROJECT-2\\\\CO2 LUTHI.xls'\n",
    "CO2_LUTHI_sheet1 = pd.read_excel(CO2_LUTHI_path, sheet_name='1.  new CO2 data')\n",
    "CO2_LUTHI_sheet2 = pd.read_excel(CO2_LUTHI_path, sheet_name='2.  Vostok-TD-Dome C')"
   ]
  },
  {
   "cell_type": "markdown",
   "metadata": {},
   "source": [
    "# Extract relevant columns"
   ]
  },
  {
   "cell_type": "code",
   "execution_count": 6807,
   "metadata": {},
   "outputs": [],
   "source": [
    "\n",
    "monnin_luthi = CO2_LUTHI_sheet2.iloc[6:189, 1:3]\n",
    "pepin_luthi = CO2_LUTHI_sheet2.iloc[19:353, 5:7]\n",
    "siegenthaler_1_luthi = CO2_LUTHI_sheet1.iloc[6:26, 16:18]\n",
    "siegenthaler_2_luthi = CO2_LUTHI_sheet2.iloc[6:328, 12:14]\n",
    "luthi_luthi = CO2_LUTHI_sheet1.iloc[16:253, 1:3]"
   ]
  },
  {
   "cell_type": "markdown",
   "metadata": {},
   "source": [
    "# Rename columns"
   ]
  },
  {
   "cell_type": "code",
   "execution_count": 6808,
   "metadata": {},
   "outputs": [],
   "source": [
    "\n",
    "monnin_luthi.rename(columns={'Unnamed: 1': 'yr_bp', 'Unnamed: 2': 'co2_ppmv'}, inplace=True)\n",
    "pepin_luthi.rename(columns={'Unnamed: 5': 'yr_bp', 'Unnamed: 6': 'co2_ppmv'}, inplace=True)\n",
    "siegenthaler_1_luthi.rename(columns={'Unnamed: 16': 'yr_bp', 'Unnamed: 17': 'co2_ppmv'}, inplace=True)\n",
    "siegenthaler_2_luthi.rename(columns={'Unnamed: 12': 'yr_bp', 'Unnamed: 13': 'co2_ppmv'}, inplace=True)\n",
    "luthi_luthi.rename(columns={'Unnamed: 1': 'yr_bp', 'Unnamed: 2': 'co2_ppmv'}, inplace=True)"
   ]
  },
  {
   "cell_type": "markdown",
   "metadata": {},
   "source": [
    "# Load CO2 data from IPCC"
   ]
  },
  {
   "cell_type": "code",
   "execution_count": 6809,
   "metadata": {},
   "outputs": [],
   "source": [
    "\n",
    "CO2_IPCC_path = 'C:\\\\Users\\\\fifoa\\\\OneDrive\\\\Desktop\\\\ATU\\\\PFDA-PROJECT-2\\\\CO2 IPCC.xlsx'\n",
    "CO2_IPCC_data = pd.read_excel(CO2_IPCC_path, sheet_name='all records')"
   ]
  },
  {
   "cell_type": "markdown",
   "metadata": {},
   "source": [
    "# Extract relevant columns"
   ]
  },
  {
   "cell_type": "code",
   "execution_count": 6810,
   "metadata": {},
   "outputs": [],
   "source": [
    "\n",
    "rubino = CO2_IPCC_data.iloc[90:, [83, 86]]\n",
    "macfarling = CO2_IPCC_data.iloc[137:, 68:70]\n",
    "monnin = CO2_IPCC_data.iloc[25:120, 2:4]\n",
    "marcott = CO2_IPCC_data.iloc[31:321, 98:100]\n",
    "ahn = CO2_IPCC_data.iloc[7:202, 89:91]\n",
    "bereiter = CO2_IPCC_data.iloc[28:106, 34:36]\n",
    "bereiter_2 = CO2_IPCC_data.iloc[60:154, 39:41]\n",
    "schneider = CO2_IPCC_data.iloc[6:, 65:67]\n",
    "petit = CO2_IPCC_data.iloc[124:348, 7:9]\n",
    "siegenthaler = CO2_IPCC_data.iloc[6:26, 20:22]\n",
    "siegenthaler_2 = CO2_IPCC_data.iloc[6:226, 15:17]\n",
    "bereiter_3 = CO2_IPCC_data.iloc[37:, 102:104]"
   ]
  },
  {
   "cell_type": "markdown",
   "metadata": {},
   "source": [
    "# Rename columns"
   ]
  },
  {
   "cell_type": "code",
   "execution_count": 6811,
   "metadata": {},
   "outputs": [],
   "source": [
    "\n",
    "rubino.rename(columns={'Unnamed: 83': 'yr_bp', 'Unnamed: 86': 'co2_ppmv'}, inplace=True)\n",
    "macfarling.rename(columns={'Law Dome (0-2 kyr BP)': 'yr_bp', 'Unnamed: 69': 'co2_ppmv'}, inplace=True)\n",
    "monnin.rename(columns={'Unnamed: 2': 'yr_bp', 'Unnamed: 3': 'co2_ppmv'}, inplace=True)\n",
    "marcott.rename(columns={'Unnamed: 98': 'yr_bp', 'Unnamed: 99': 'co2_ppmv'}, inplace=True)\n",
    "ahn.rename(columns={'Unnamed: 89': 'yr_bp', 'Unnamed: 90': 'co2_ppmv'}, inplace=True)\n",
    "bereiter.rename(columns={'Unnamed: 34': 'yr_bp', 'Unnamed: 35': 'co2_ppmv'}, inplace=True)\n",
    "bereiter_2.rename(columns={'Unnamed: 39': 'yr_bp', 'Unnamed: 40': 'co2_ppmv'}, inplace=True)\n",
    "schneider.rename(columns={'Unnamed: 65': 'yr_bp', 'Unnamed: 66': 'co2_ppmv'}, inplace=True)\n",
    "petit.rename(columns={'Unnamed: 7': 'yr_bp', 'Unnamed: 8': 'co2_ppmv'}, inplace=True)\n",
    "siegenthaler.rename(columns={'Unnamed: 20': 'yr_bp', 'Unnamed: 21': 'co2_ppmv'}, inplace=True)\n",
    "siegenthaler_2.rename(columns={'Unnamed: 15': 'yr_bp', 'Unnamed: 16': 'co2_ppmv'}, inplace=True)\n",
    "bereiter_3.rename(columns={'Unnamed: 102': 'yr_bp', 'Unnamed: 103': 'co2_ppmv'}, inplace=True)"
   ]
  },
  {
   "cell_type": "markdown",
   "metadata": {},
   "source": [
    "# Merge datasets"
   ]
  },
  {
   "cell_type": "code",
   "execution_count": 6812,
   "metadata": {},
   "outputs": [],
   "source": [
    "merged_data = pd.concat([monnin_luthi, pepin_luthi, siegenthaler_1_luthi, siegenthaler_2_luthi, luthi_luthi,\n",
    "                         rubino, macfarling, monnin, marcott, ahn, bereiter, bereiter_2, schneider, petit,\n",
    "                         siegenthaler, siegenthaler_2, bereiter_3], ignore_index=True)"
   ]
  },
  {
   "cell_type": "markdown",
   "metadata": {},
   "source": [
    "# Explore the merged dataset"
   ]
  },
  {
   "cell_type": "code",
   "execution_count": 6813,
   "metadata": {},
   "outputs": [
    {
     "name": "stdout",
     "output_type": "stream",
     "text": [
      "  yr_bp co2_ppmv\n",
      "0   137    280.4\n",
      "1   268    274.9\n",
      "2   279    277.9\n",
      "3   395    279.1\n",
      "4   404    281.9\n"
     ]
    }
   ],
   "source": [
    "# Explore the merged dataset\n",
    "print(merged_data.head())"
   ]
  },
  {
   "cell_type": "markdown",
   "metadata": {},
   "source": [
    "# CLENAING out non-DataFrame (EMPTY DATA FRAMES) objects from the merged_data,THIS WILL SKIP EMPTY DATAFRAMES"
   ]
  },
  {
   "cell_type": "code",
   "execution_count": 6814,
   "metadata": {},
   "outputs": [],
   "source": [
    "# List of DataFrames in the 'merged_data' variable\n",
    "merged_data = [monnin_luthi, pepin_luthi, siegenthaler_1_luthi, siegenthaler_2_luthi, luthi_luthi,\n",
    "               rubino, macfarling, monnin, marcott, ahn, bereiter, bereiter_2, schneider, petit,\n",
    "               siegenthaler, siegenthaler_2, bereiter_3]\n",
    "\n",
    "# Filter out non-DataFrame objects\n",
    "merged_data = [df for df in merged_data if isinstance(df, pd.DataFrame)]\n"
   ]
  },
  {
   "cell_type": "markdown",
   "metadata": {},
   "source": [
    "Generating a column to compute the number of years before 2023 "
   ]
  },
  {
   "cell_type": "code",
   "execution_count": 6815,
   "metadata": {},
   "outputs": [],
   "source": [
    "import pandas as pd\n",
    "\n",
    "def process_dataframe(df):\n",
    "    # Print the original column names\n",
    "    print(f\"Original Column Names for DataFrame: {df.columns}\")\n",
    "\n",
    "    # Check if the DataFrame is not empty\n",
    "    if not df.empty:\n",
    "        # Rename columns\n",
    "        df.rename(columns={'Unnamed: 1': 'yr_bp', 'Unnamed: 2': 'co2_ppmv'}, inplace=True)\n",
    "\n",
    "        # Print the column names after renaming\n",
    "        print(f\"Column Names After Renaming for DataFrame: {df.columns}\")\n",
    "\n",
    "        # Create a column that calculates the number of years before 2023\n",
    "        df['years_before_2023'] = 2023 - df['yr_bp']\n",
    "\n",
    "        # Create a column that calculates the year\n",
    "        df['calculated_year'] = 2023 + df['years_before_2023']\n",
    "\n",
    "        # Drop rows with null values\n",
    "        df.dropna(inplace=True)\n",
    "    else:\n",
    "        print(\"DataFrame is empty. Skipping processing.\")\n",
    "\n"
   ]
  },
  {
   "cell_type": "markdown",
   "metadata": {},
   "source": [
    "runing  loop to apply the process_dataframe function to each DataFrame and print the head of one of the processed DataFrames:"
   ]
  },
  {
   "cell_type": "code",
   "execution_count": 6816,
   "metadata": {},
   "outputs": [
    {
     "name": "stdout",
     "output_type": "stream",
     "text": [
      "Original Column Names for DataFrame: Index(['yr_bp', 'co2_ppmv'], dtype='object')\n",
      "Column Names After Renaming for DataFrame: Index(['yr_bp', 'co2_ppmv'], dtype='object')\n",
      "Original Column Names for DataFrame: Index(['yr_bp', 'co2_ppmv'], dtype='object')\n",
      "Column Names After Renaming for DataFrame: Index(['yr_bp', 'co2_ppmv'], dtype='object')\n",
      "Original Column Names for DataFrame: Index([], dtype='object')\n",
      "DataFrame is empty. Skipping processing.\n",
      "Original Column Names for DataFrame: Index(['yr_bp', 'co2_ppmv'], dtype='object')\n",
      "Column Names After Renaming for DataFrame: Index(['yr_bp', 'co2_ppmv'], dtype='object')\n",
      "Original Column Names for DataFrame: Index(['yr_bp', 'co2_ppmv'], dtype='object')\n",
      "Column Names After Renaming for DataFrame: Index(['yr_bp', 'co2_ppmv'], dtype='object')\n",
      "Original Column Names for DataFrame: Index(['yr_bp', 'co2_ppmv'], dtype='object')\n",
      "Column Names After Renaming for DataFrame: Index(['yr_bp', 'co2_ppmv'], dtype='object')\n",
      "Original Column Names for DataFrame: Index(['yr_bp', 'co2_ppmv'], dtype='object')\n",
      "Column Names After Renaming for DataFrame: Index(['yr_bp', 'co2_ppmv'], dtype='object')\n",
      "Original Column Names for DataFrame: Index(['yr_bp', 'co2_ppmv'], dtype='object')\n",
      "Column Names After Renaming for DataFrame: Index(['yr_bp', 'co2_ppmv'], dtype='object')\n",
      "Original Column Names for DataFrame: Index(['yr_bp', 'co2_ppmv'], dtype='object')\n",
      "Column Names After Renaming for DataFrame: Index(['yr_bp', 'co2_ppmv'], dtype='object')\n",
      "Original Column Names for DataFrame: Index(['yr_bp', 'co2_ppmv'], dtype='object')\n",
      "Column Names After Renaming for DataFrame: Index(['yr_bp', 'co2_ppmv'], dtype='object')\n",
      "Original Column Names for DataFrame: Index(['yr_bp', 'co2_ppmv'], dtype='object')\n",
      "Column Names After Renaming for DataFrame: Index(['yr_bp', 'co2_ppmv'], dtype='object')\n",
      "Original Column Names for DataFrame: Index(['yr_bp', 'co2_ppmv'], dtype='object')\n",
      "Column Names After Renaming for DataFrame: Index(['yr_bp', 'co2_ppmv'], dtype='object')\n",
      "Original Column Names for DataFrame: Index(['yr_bp', 'co2_ppmv'], dtype='object')\n",
      "Column Names After Renaming for DataFrame: Index(['yr_bp', 'co2_ppmv'], dtype='object')\n",
      "Original Column Names for DataFrame: Index(['yr_bp', 'co2_ppmv'], dtype='object')\n",
      "Column Names After Renaming for DataFrame: Index(['yr_bp', 'co2_ppmv'], dtype='object')\n",
      "Original Column Names for DataFrame: Index(['yr_bp', 'co2_ppmv'], dtype='object')\n",
      "Column Names After Renaming for DataFrame: Index(['yr_bp', 'co2_ppmv'], dtype='object')\n",
      "Original Column Names for DataFrame: Index(['yr_bp', 'co2_ppmv'], dtype='object')\n",
      "Column Names After Renaming for DataFrame: Index(['yr_bp', 'co2_ppmv'], dtype='object')\n",
      "Original Column Names for DataFrame: Index(['yr_bp', 'co2_ppmv'], dtype='object')\n",
      "Column Names After Renaming for DataFrame: Index(['yr_bp', 'co2_ppmv'], dtype='object')\n",
      "   yr_bp co2_ppmv years_before_2023 calculated_year\n",
      "6    137    280.4              1886            3909\n",
      "7    268    274.9              1755            3778\n",
      "8    279    277.9              1744            3767\n",
      "9    395    279.1              1628            3651\n",
      "10   404    281.9              1619            3642\n"
     ]
    }
   ],
   "source": [
    "# Apply the processing function to all DataFrames in the merged dataset\n",
    "for df in merged_data:\n",
    "    process_dataframe(df)\n",
    "\n",
    "# Example: Print the head of one of the processed DataFrames\n",
    "print(monnin_luthi.head())\n"
   ]
  },
  {
   "cell_type": "markdown",
   "metadata": {},
   "source": [
    "# CO2 Data 1979 - 2023 \n",
    "Data is the most recent uptill date  data is gotten from https://gml.noaa.gov/webdata/ccgg/trends/co2/co2_mm_gl.txt accesed 01/01/2024"
   ]
  },
  {
   "cell_type": "markdown",
   "metadata": {},
   "source": [
    "Loading in the file"
   ]
  },
  {
   "cell_type": "code",
   "execution_count": 6817,
   "metadata": {},
   "outputs": [],
   "source": [
    "co2_global_csv = pd.read_csv(r'C:\\Users\\fifoa\\OneDrive\\Desktop\\ATU\\PFDA-PROJECT-2\\co2global.csv')\n",
    "\n"
   ]
  },
  {
   "cell_type": "code",
   "execution_count": 6818,
   "metadata": {},
   "outputs": [
    {
     "name": "stdout",
     "output_type": "stream",
     "text": [
      "Index(['year', 'month                    ', 'decimal   ', 'average ',\n",
      "       ' average_unc ', 'Trend   ', ' trend_unc'],\n",
      "      dtype='object')\n"
     ]
    }
   ],
   "source": [
    "print(co2_global_csv.columns)\n"
   ]
  },
  {
   "cell_type": "code",
   "execution_count": 6819,
   "metadata": {},
   "outputs": [
    {
     "name": "stdout",
     "output_type": "stream",
     "text": [
      "   year  month                      decimal     average    average_unc   \\\n",
      "0  1979                          1    1979.042    336.56           0.11   \n",
      "1  1979                          2    1979.125    337.29           0.09   \n",
      "2  1979                          3    1979.208    337.88           0.11   \n",
      "3  1979                          4    1979.292    338.32           0.12   \n",
      "4  1979                          5    1979.375    338.26           0.03   \n",
      "\n",
      "   Trend      trend_unc  \n",
      "0    335.92        0.09  \n",
      "1    336.25        0.10  \n",
      "2    336.51        0.10  \n",
      "3    336.72        0.10  \n",
      "4    336.71        0.10  \n"
     ]
    }
   ],
   "source": [
    "# Print the first 5 rows of the DataFrame\n",
    "print(co2_global_csv.head())\n",
    "\n",
    "\n",
    "\n"
   ]
  },
  {
   "cell_type": "markdown",
   "metadata": {},
   "source": [
    "drop columns and remove trailing whitespaces"
   ]
  },
  {
   "cell_type": "code",
   "execution_count": 6820,
   "metadata": {},
   "outputs": [],
   "source": [
    "# Remove leading and trailing whitespaces from column names\n",
    "co2_global_csv.columns = co2_global_csv.columns.str.strip()"
   ]
  },
  {
   "cell_type": "code",
   "execution_count": 6821,
   "metadata": {},
   "outputs": [
    {
     "name": "stdout",
     "output_type": "stream",
     "text": [
      "   year  month   decimal  average  average_unc  trend_unc\n",
      "0  1979      1  1979.042   336.56         0.11       0.09\n",
      "1  1979      2  1979.125   337.29         0.09       0.10\n",
      "2  1979      3  1979.208   337.88         0.11       0.10\n",
      "3  1979      4  1979.292   338.32         0.12       0.10\n",
      "4  1979      5  1979.375   338.26         0.03       0.10\n"
     ]
    }
   ],
   "source": [
    "# Drop the 'Trend' column\n",
    "co2_global_csv.drop(columns=['Trend'], inplace=True)\n",
    "\n",
    "# Print the DataFrame after dropping the column\n",
    "print(co2_global_csv.head())\n",
    "\n",
    "\n"
   ]
  },
  {
   "cell_type": "markdown",
   "metadata": {},
   "source": []
  },
  {
   "cell_type": "code",
   "execution_count": 6822,
   "metadata": {},
   "outputs": [
    {
     "data": {
      "text/html": [
       "<div>\n",
       "<style scoped>\n",
       "    .dataframe tbody tr th:only-of-type {\n",
       "        vertical-align: middle;\n",
       "    }\n",
       "\n",
       "    .dataframe tbody tr th {\n",
       "        vertical-align: top;\n",
       "    }\n",
       "\n",
       "    .dataframe thead th {\n",
       "        text-align: right;\n",
       "    }\n",
       "</style>\n",
       "<table border=\"1\" class=\"dataframe\">\n",
       "  <thead>\n",
       "    <tr style=\"text-align: right;\">\n",
       "      <th></th>\n",
       "      <th>year</th>\n",
       "      <th>month</th>\n",
       "      <th>decimal</th>\n",
       "      <th>average</th>\n",
       "      <th>average_unc</th>\n",
       "      <th>trend_unc</th>\n",
       "    </tr>\n",
       "  </thead>\n",
       "  <tbody>\n",
       "    <tr>\n",
       "      <th>0</th>\n",
       "      <td>1979</td>\n",
       "      <td>1</td>\n",
       "      <td>1979.042</td>\n",
       "      <td>336.56</td>\n",
       "      <td>0.11</td>\n",
       "      <td>0.09</td>\n",
       "    </tr>\n",
       "    <tr>\n",
       "      <th>1</th>\n",
       "      <td>1979</td>\n",
       "      <td>2</td>\n",
       "      <td>1979.125</td>\n",
       "      <td>337.29</td>\n",
       "      <td>0.09</td>\n",
       "      <td>0.10</td>\n",
       "    </tr>\n",
       "    <tr>\n",
       "      <th>2</th>\n",
       "      <td>1979</td>\n",
       "      <td>3</td>\n",
       "      <td>1979.208</td>\n",
       "      <td>337.88</td>\n",
       "      <td>0.11</td>\n",
       "      <td>0.10</td>\n",
       "    </tr>\n",
       "    <tr>\n",
       "      <th>3</th>\n",
       "      <td>1979</td>\n",
       "      <td>4</td>\n",
       "      <td>1979.292</td>\n",
       "      <td>338.32</td>\n",
       "      <td>0.12</td>\n",
       "      <td>0.10</td>\n",
       "    </tr>\n",
       "    <tr>\n",
       "      <th>4</th>\n",
       "      <td>1979</td>\n",
       "      <td>5</td>\n",
       "      <td>1979.375</td>\n",
       "      <td>338.26</td>\n",
       "      <td>0.03</td>\n",
       "      <td>0.10</td>\n",
       "    </tr>\n",
       "    <tr>\n",
       "      <th>...</th>\n",
       "      <td>...</td>\n",
       "      <td>...</td>\n",
       "      <td>...</td>\n",
       "      <td>...</td>\n",
       "      <td>...</td>\n",
       "      <td>...</td>\n",
       "    </tr>\n",
       "    <tr>\n",
       "      <th>532</th>\n",
       "      <td>2023</td>\n",
       "      <td>5</td>\n",
       "      <td>2023.375</td>\n",
       "      <td>420.54</td>\n",
       "      <td>0.10</td>\n",
       "      <td>0.06</td>\n",
       "    </tr>\n",
       "    <tr>\n",
       "      <th>533</th>\n",
       "      <td>2023</td>\n",
       "      <td>6</td>\n",
       "      <td>2023.458</td>\n",
       "      <td>419.53</td>\n",
       "      <td>0.10</td>\n",
       "      <td>0.06</td>\n",
       "    </tr>\n",
       "    <tr>\n",
       "      <th>534</th>\n",
       "      <td>2023</td>\n",
       "      <td>7</td>\n",
       "      <td>2023.542</td>\n",
       "      <td>417.83</td>\n",
       "      <td>0.10</td>\n",
       "      <td>0.06</td>\n",
       "    </tr>\n",
       "    <tr>\n",
       "      <th>535</th>\n",
       "      <td>2023</td>\n",
       "      <td>8</td>\n",
       "      <td>2023.625</td>\n",
       "      <td>416.53</td>\n",
       "      <td>0.10</td>\n",
       "      <td>0.06</td>\n",
       "    </tr>\n",
       "    <tr>\n",
       "      <th>536</th>\n",
       "      <td>2023</td>\n",
       "      <td>9</td>\n",
       "      <td>2023.708</td>\n",
       "      <td>416.83</td>\n",
       "      <td>0.10</td>\n",
       "      <td>0.06</td>\n",
       "    </tr>\n",
       "  </tbody>\n",
       "</table>\n",
       "<p>537 rows × 6 columns</p>\n",
       "</div>"
      ],
      "text/plain": [
       "     year  month   decimal  average  average_unc  trend_unc\n",
       "0    1979      1  1979.042   336.56         0.11       0.09\n",
       "1    1979      2  1979.125   337.29         0.09       0.10\n",
       "2    1979      3  1979.208   337.88         0.11       0.10\n",
       "3    1979      4  1979.292   338.32         0.12       0.10\n",
       "4    1979      5  1979.375   338.26         0.03       0.10\n",
       "..    ...    ...       ...      ...          ...        ...\n",
       "532  2023      5  2023.375   420.54         0.10       0.06\n",
       "533  2023      6  2023.458   419.53         0.10       0.06\n",
       "534  2023      7  2023.542   417.83         0.10       0.06\n",
       "535  2023      8  2023.625   416.53         0.10       0.06\n",
       "536  2023      9  2023.708   416.83         0.10       0.06\n",
       "\n",
       "[537 rows x 6 columns]"
      ]
     },
     "execution_count": 6822,
     "metadata": {},
     "output_type": "execute_result"
    }
   ],
   "source": [
    "co2_global_csv"
   ]
  },
  {
   "cell_type": "markdown",
   "metadata": {},
   "source": [
    "# Jouzel (2007) Temperature Data"
   ]
  },
  {
   "cell_type": "markdown",
   "metadata": {},
   "source": [
    "read in the file "
   ]
  },
  {
   "cell_type": "code",
   "execution_count": 6823,
   "metadata": {},
   "outputs": [],
   "source": [
    "TEMP_JOUZEL_csv = pd.read_csv(r'C:\\Users\\fifoa\\OneDrive\\Desktop\\ATU\\PFDA-PROJECT-2\\TEMPJOUZEL.csv')"
   ]
  },
  {
   "cell_type": "markdown",
   "metadata": {},
   "source": [
    "Print first 5 row"
   ]
  },
  {
   "cell_type": "code",
   "execution_count": 6824,
   "metadata": {},
   "outputs": [
    {
     "data": {
      "text/html": [
       "<div>\n",
       "<style scoped>\n",
       "    .dataframe tbody tr th:only-of-type {\n",
       "        vertical-align: middle;\n",
       "    }\n",
       "\n",
       "    .dataframe tbody tr th {\n",
       "        vertical-align: top;\n",
       "    }\n",
       "\n",
       "    .dataframe thead th {\n",
       "        text-align: right;\n",
       "    }\n",
       "</style>\n",
       "<table border=\"1\" class=\"dataframe\">\n",
       "  <thead>\n",
       "    <tr style=\"text-align: right;\">\n",
       "      <th></th>\n",
       "      <th>bag</th>\n",
       "      <th>ztop</th>\n",
       "      <th>EDC3béta</th>\n",
       "      <th>AICC2012</th>\n",
       "      <th>deutfinal</th>\n",
       "      <th>temp</th>\n",
       "      <th>acc-EDC3beta</th>\n",
       "    </tr>\n",
       "  </thead>\n",
       "  <tbody>\n",
       "    <tr>\n",
       "      <th>0</th>\n",
       "      <td>1</td>\n",
       "      <td>0.00</td>\n",
       "      <td>-50.00000</td>\n",
       "      <td>-55.000000</td>\n",
       "      <td>NaN</td>\n",
       "      <td>218.3</td>\n",
       "      <td>3.105321</td>\n",
       "    </tr>\n",
       "    <tr>\n",
       "      <th>1</th>\n",
       "      <td>2</td>\n",
       "      <td>0.55</td>\n",
       "      <td>-43.55977</td>\n",
       "      <td>-50.513333</td>\n",
       "      <td>NaN</td>\n",
       "      <td>218.3</td>\n",
       "      <td>3.104805</td>\n",
       "    </tr>\n",
       "    <tr>\n",
       "      <th>2</th>\n",
       "      <td>3</td>\n",
       "      <td>1.10</td>\n",
       "      <td>-37.44019</td>\n",
       "      <td>-46.026667</td>\n",
       "      <td>NaN</td>\n",
       "      <td>218.3</td>\n",
       "      <td>3.104404</td>\n",
       "    </tr>\n",
       "    <tr>\n",
       "      <th>3</th>\n",
       "      <td>4</td>\n",
       "      <td>1.65</td>\n",
       "      <td>-31.64156</td>\n",
       "      <td>-41.540000</td>\n",
       "      <td>NaN</td>\n",
       "      <td>218.3</td>\n",
       "      <td>3.104025</td>\n",
       "    </tr>\n",
       "    <tr>\n",
       "      <th>4</th>\n",
       "      <td>5</td>\n",
       "      <td>2.20</td>\n",
       "      <td>-24.55278</td>\n",
       "      <td>-34.516667</td>\n",
       "      <td>NaN</td>\n",
       "      <td>218.3</td>\n",
       "      <td>3.103453</td>\n",
       "    </tr>\n",
       "  </tbody>\n",
       "</table>\n",
       "</div>"
      ],
      "text/plain": [
       "   bag  ztop  EDC3béta   AICC2012  deutfinal   temp  acc-EDC3beta\n",
       "0    1  0.00 -50.00000 -55.000000        NaN  218.3      3.105321\n",
       "1    2  0.55 -43.55977 -50.513333        NaN  218.3      3.104805\n",
       "2    3  1.10 -37.44019 -46.026667        NaN  218.3      3.104404\n",
       "3    4  1.65 -31.64156 -41.540000        NaN  218.3      3.104025\n",
       "4    5  2.20 -24.55278 -34.516667        NaN  218.3      3.103453"
      ]
     },
     "execution_count": 6824,
     "metadata": {},
     "output_type": "execute_result"
    }
   ],
   "source": [
    "TEMP_JOUZEL_csv.head()"
   ]
  },
  {
   "cell_type": "markdown",
   "metadata": {},
   "source": [
    "DROPPING UNNECSARY COLUMNS"
   ]
  },
  {
   "cell_type": "code",
   "execution_count": 6825,
   "metadata": {},
   "outputs": [],
   "source": [
    "# Specify columns to drop\n",
    "columns_to_drop = ['bag', 'ztop', 'deutfinal', 'acc-EDC3beta']\n",
    "\n",
    "# Drop the specified columns from the DataFrame\n",
    "TEMP_JOUZEL_csv = TEMP_JOUZEL_csv.drop(columns=columns_to_drop)\n"
   ]
  },
  {
   "cell_type": "markdown",
   "metadata": {},
   "source": [
    "The value 273.15 is the conversion factor commonly used to convert temperatures from Kelvin to Celsius. The Celsius scale is defined such that 0 degrees Celsius is the freezing point of water, which is equivalent to 273.15 Kelvin. Therefore, to convert temperatures from Kelvin to Celsius, you subtract 273.15.\n",
    "\n",
    "If you're working with a different conversion factor, you would use that value instead. However, in most cases involving temperature conversions between Kelvin and Celsius, 273.15 is the appropriate constant to use.\n",
    "\n"
   ]
  },
  {
   "cell_type": "markdown",
   "metadata": {},
   "source": [
    "Creating a new colunm called celcius"
   ]
  },
  {
   "cell_type": "code",
   "execution_count": 6826,
   "metadata": {},
   "outputs": [],
   "source": [
    "# Create a new column 'celsius' by subtracting 273.15 from the 'temp' column\n",
    "TEMP_JOUZEL_csv = TEMP_JOUZEL_csv.assign(celsius=lambda x: x['temp'] - 273.15)\n"
   ]
  },
  {
   "cell_type": "markdown",
   "metadata": {},
   "source": [
    "# Calculate the mean of the 'celsius' column for rows 0 to 86"
   ]
  },
  {
   "cell_type": "code",
   "execution_count": 6827,
   "metadata": {},
   "outputs": [],
   "source": [
    "\n",
    "average = TEMP_JOUZEL_csv.loc[0:86, 'celsius'].mean()\n",
    "\n",
    "\n"
   ]
  },
  {
   "cell_type": "code",
   "execution_count": 6828,
   "metadata": {},
   "outputs": [
    {
     "name": "stdout",
     "output_type": "stream",
     "text": [
      "Average Celsius Temperature: -55.738505747126425\n"
     ]
    }
   ],
   "source": [
    "# Print the result\n",
    "print(\"Average Celsius Temperature:\", average)"
   ]
  },
  {
   "cell_type": "markdown",
   "metadata": {},
   "source": [
    "calculating the temperature anomaly in a new column named 'anomaly':"
   ]
  },
  {
   "cell_type": "code",
   "execution_count": 6829,
   "metadata": {},
   "outputs": [],
   "source": [
    "\n",
    "\n",
    "TEMP_JOUZEL_csv['anomaly'] = TEMP_JOUZEL_csv['celsius'] - TEMP_JOUZEL_csv['celsius'].mean()\n"
   ]
  },
  {
   "cell_type": "markdown",
   "metadata": {},
   "source": [
    "creating a column to calculate years before 2023"
   ]
  },
  {
   "cell_type": "code",
   "execution_count": 6830,
   "metadata": {},
   "outputs": [],
   "source": [
    "TEMP_JOUZEL_csv['aicc2012_years_before_2023'] = 2023 - (1950 - TEMP_JOUZEL_csv['AICC2012'])\n",
    "\n",
    "# calculate years before present EDC3 \n",
    "TEMP_JOUZEL_csv['edc3_years_before_2023'] = 2023 - (1950 - TEMP_JOUZEL_csv['EDC3béta'])"
   ]
  },
  {
   "cell_type": "markdown",
   "metadata": {},
   "source": [
    "Print data"
   ]
  },
  {
   "cell_type": "code",
   "execution_count": 6831,
   "metadata": {},
   "outputs": [
    {
     "data": {
      "text/html": [
       "<div>\n",
       "<style scoped>\n",
       "    .dataframe tbody tr th:only-of-type {\n",
       "        vertical-align: middle;\n",
       "    }\n",
       "\n",
       "    .dataframe tbody tr th {\n",
       "        vertical-align: top;\n",
       "    }\n",
       "\n",
       "    .dataframe thead th {\n",
       "        text-align: right;\n",
       "    }\n",
       "</style>\n",
       "<table border=\"1\" class=\"dataframe\">\n",
       "  <thead>\n",
       "    <tr style=\"text-align: right;\">\n",
       "      <th></th>\n",
       "      <th>EDC3béta</th>\n",
       "      <th>AICC2012</th>\n",
       "      <th>temp</th>\n",
       "      <th>celsius</th>\n",
       "      <th>anomaly</th>\n",
       "      <th>aicc2012_years_before_2023</th>\n",
       "      <th>edc3_years_before_2023</th>\n",
       "    </tr>\n",
       "  </thead>\n",
       "  <tbody>\n",
       "    <tr>\n",
       "      <th>0</th>\n",
       "      <td>-50.00000</td>\n",
       "      <td>-55.000000</td>\n",
       "      <td>218.3</td>\n",
       "      <td>-54.85</td>\n",
       "      <td>4.825279</td>\n",
       "      <td>18.000000</td>\n",
       "      <td>23.00000</td>\n",
       "    </tr>\n",
       "    <tr>\n",
       "      <th>1</th>\n",
       "      <td>-43.55977</td>\n",
       "      <td>-50.513333</td>\n",
       "      <td>218.3</td>\n",
       "      <td>-54.85</td>\n",
       "      <td>4.825279</td>\n",
       "      <td>22.486667</td>\n",
       "      <td>29.44023</td>\n",
       "    </tr>\n",
       "    <tr>\n",
       "      <th>2</th>\n",
       "      <td>-37.44019</td>\n",
       "      <td>-46.026667</td>\n",
       "      <td>218.3</td>\n",
       "      <td>-54.85</td>\n",
       "      <td>4.825279</td>\n",
       "      <td>26.973333</td>\n",
       "      <td>35.55981</td>\n",
       "    </tr>\n",
       "    <tr>\n",
       "      <th>3</th>\n",
       "      <td>-31.64156</td>\n",
       "      <td>-41.540000</td>\n",
       "      <td>218.3</td>\n",
       "      <td>-54.85</td>\n",
       "      <td>4.825279</td>\n",
       "      <td>31.460000</td>\n",
       "      <td>41.35844</td>\n",
       "    </tr>\n",
       "    <tr>\n",
       "      <th>4</th>\n",
       "      <td>-24.55278</td>\n",
       "      <td>-34.516667</td>\n",
       "      <td>218.3</td>\n",
       "      <td>-54.85</td>\n",
       "      <td>4.825279</td>\n",
       "      <td>38.483333</td>\n",
       "      <td>48.44722</td>\n",
       "    </tr>\n",
       "  </tbody>\n",
       "</table>\n",
       "</div>"
      ],
      "text/plain": [
       "   EDC3béta   AICC2012   temp  celsius   anomaly  aicc2012_years_before_2023  \\\n",
       "0 -50.00000 -55.000000  218.3   -54.85  4.825279                   18.000000   \n",
       "1 -43.55977 -50.513333  218.3   -54.85  4.825279                   22.486667   \n",
       "2 -37.44019 -46.026667  218.3   -54.85  4.825279                   26.973333   \n",
       "3 -31.64156 -41.540000  218.3   -54.85  4.825279                   31.460000   \n",
       "4 -24.55278 -34.516667  218.3   -54.85  4.825279                   38.483333   \n",
       "\n",
       "   edc3_years_before_2023  \n",
       "0                23.00000  \n",
       "1                29.44023  \n",
       "2                35.55981  \n",
       "3                41.35844  \n",
       "4                48.44722  "
      ]
     },
     "execution_count": 6831,
     "metadata": {},
     "output_type": "execute_result"
    }
   ],
   "source": [
    "TEMP_JOUZEL_csv.head()"
   ]
  },
  {
   "cell_type": "markdown",
   "metadata": {},
   "source": [
    "Changing the variable in the year before to integers"
   ]
  },
  {
   "cell_type": "code",
   "execution_count": 6832,
   "metadata": {},
   "outputs": [],
   "source": [
    "TEMP_JOUZEL_csv[['aicc2012_years_before_2023', 'edc3_years_before_2023']] = TEMP_JOUZEL_csv[['aicc2012_years_before_2023', 'edc3_years_before_2023']].astype(int)\n"
   ]
  },
  {
   "cell_type": "markdown",
   "metadata": {},
   "source": [
    "DROPPING DUPLICATED DATA AND KEEPING THE FIRST"
   ]
  },
  {
   "cell_type": "code",
   "execution_count": 6833,
   "metadata": {},
   "outputs": [],
   "source": [
    "# Assuming 'jouzel_temp' is your DataFrame\n",
    "TEMP_JOUZEL_csv.drop_duplicates(subset='aicc2012_years_before_2023', inplace=True)\n",
    "\n"
   ]
  },
  {
   "cell_type": "markdown",
   "metadata": {},
   "source": [
    "pRINT AFTER REMOVING DUPLICATED DATA"
   ]
  },
  {
   "cell_type": "code",
   "execution_count": 6834,
   "metadata": {},
   "outputs": [
    {
     "name": "stdout",
     "output_type": "stream",
     "text": [
      "          EDC3béta       AICC2012   temp  celsius   anomaly  \\\n",
      "0        -50.00000     -55.000000  218.3   -54.85  4.825279   \n",
      "1        -43.55977     -50.513333  218.3   -54.85  4.825279   \n",
      "2        -37.44019     -46.026667  218.3   -54.85  4.825279   \n",
      "3        -31.64156     -41.540000  218.3   -54.85  4.825279   \n",
      "4        -24.55278     -34.516667  218.3   -54.85  4.825279   \n",
      "...            ...            ...    ...      ...       ...   \n",
      "5814  816871.60000  817562.000000  211.0   -62.15 -2.474721   \n",
      "5815  817693.60000  818631.000000  211.2   -61.95 -2.274721   \n",
      "5816  818505.50000  819700.000000  211.3   -61.85 -2.174721   \n",
      "5817  819303.10000  820769.000000  211.4   -61.75 -2.074721   \n",
      "5818  820093.90000  821838.000000  211.4   -61.75 -2.074721   \n",
      "\n",
      "      aicc2012_years_before_2023  edc3_years_before_2023  \n",
      "0                             18                      23  \n",
      "1                             22                      29  \n",
      "2                             26                      35  \n",
      "3                             31                      41  \n",
      "4                             38                      48  \n",
      "...                          ...                     ...  \n",
      "5814                      817635                  816944  \n",
      "5815                      818704                  817766  \n",
      "5816                      819773                  818578  \n",
      "5817                      820842                  819376  \n",
      "5818                      821911                  820166  \n",
      "\n",
      "[5819 rows x 7 columns]\n"
     ]
    }
   ],
   "source": [
    "# Print the DataFrame after removing duplicates\n",
    "print(TEMP_JOUZEL_csv)"
   ]
  },
  {
   "cell_type": "markdown",
   "metadata": {},
   "source": [
    "NOAA TEMPRETURE"
   ]
  },
  {
   "cell_type": "code",
   "execution_count": 6835,
   "metadata": {},
   "outputs": [],
   "source": [
    "TEMP_noaa_csv = pd.read_csv(r'C:\\Users\\fifoa\\OneDrive\\Desktop\\ATU\\PFDA-PROJECT-2\\TEMPnoaa.csv')"
   ]
  },
  {
   "cell_type": "markdown",
   "metadata": {},
   "source": [
    "print head"
   ]
  },
  {
   "cell_type": "code",
   "execution_count": 6836,
   "metadata": {},
   "outputs": [
    {
     "data": {
      "text/html": [
       "<div>\n",
       "<style scoped>\n",
       "    .dataframe tbody tr th:only-of-type {\n",
       "        vertical-align: middle;\n",
       "    }\n",
       "\n",
       "    .dataframe tbody tr th {\n",
       "        vertical-align: top;\n",
       "    }\n",
       "\n",
       "    .dataframe thead th {\n",
       "        text-align: right;\n",
       "    }\n",
       "</style>\n",
       "<table border=\"1\" class=\"dataframe\">\n",
       "  <thead>\n",
       "    <tr style=\"text-align: right;\">\n",
       "      <th></th>\n",
       "      <th>Bag</th>\n",
       "      <th>ztop</th>\n",
       "      <th>Year</th>\n",
       "      <th>Deuterium</th>\n",
       "      <th>Temperature</th>\n",
       "    </tr>\n",
       "  </thead>\n",
       "  <tbody>\n",
       "    <tr>\n",
       "      <th>0</th>\n",
       "      <td>1</td>\n",
       "      <td>0.00</td>\n",
       "      <td>-50.00000</td>\n",
       "      <td>NaN</td>\n",
       "      <td>NaN</td>\n",
       "    </tr>\n",
       "    <tr>\n",
       "      <th>1</th>\n",
       "      <td>2</td>\n",
       "      <td>0.55</td>\n",
       "      <td>-43.54769</td>\n",
       "      <td>NaN</td>\n",
       "      <td>NaN</td>\n",
       "    </tr>\n",
       "    <tr>\n",
       "      <th>2</th>\n",
       "      <td>3</td>\n",
       "      <td>1.10</td>\n",
       "      <td>-37.41829</td>\n",
       "      <td>NaN</td>\n",
       "      <td>NaN</td>\n",
       "    </tr>\n",
       "    <tr>\n",
       "      <th>3</th>\n",
       "      <td>4</td>\n",
       "      <td>1.65</td>\n",
       "      <td>-31.61153</td>\n",
       "      <td>NaN</td>\n",
       "      <td>NaN</td>\n",
       "    </tr>\n",
       "    <tr>\n",
       "      <th>4</th>\n",
       "      <td>5</td>\n",
       "      <td>2.20</td>\n",
       "      <td>-24.51395</td>\n",
       "      <td>NaN</td>\n",
       "      <td>NaN</td>\n",
       "    </tr>\n",
       "  </tbody>\n",
       "</table>\n",
       "</div>"
      ],
      "text/plain": [
       "  Bag  ztop      Year  Deuterium  Temperature\n",
       "0   1  0.00 -50.00000        NaN          NaN\n",
       "1   2  0.55 -43.54769        NaN          NaN\n",
       "2   3  1.10 -37.41829        NaN          NaN\n",
       "3   4  1.65 -31.61153        NaN          NaN\n",
       "4   5  2.20 -24.51395        NaN          NaN"
      ]
     },
     "execution_count": 6836,
     "metadata": {},
     "output_type": "execute_result"
    }
   ],
   "source": [
    "TEMP_noaa_csv.head()"
   ]
  },
  {
   "cell_type": "markdown",
   "metadata": {},
   "source": [
    "drop columns"
   ]
  },
  {
   "cell_type": "code",
   "execution_count": 6837,
   "metadata": {},
   "outputs": [],
   "source": [
    "# Specify columns to drop\n",
    "columns_to_drop = ['Bag', 'ztop']\n",
    "\n",
    "# Drop the specified columns from the DataFrame\n",
    "TEMP_noaa_csv = TEMP_noaa_csv.drop(columns=columns_to_drop)"
   ]
  },
  {
   "cell_type": "markdown",
   "metadata": {},
   "source": [
    "creating a column to calculate the year and the year before 2023"
   ]
  },
  {
   "cell_type": "code",
   "execution_count": 6838,
   "metadata": {},
   "outputs": [],
   "source": [
    "TEMP_noaa_csv['years_before_2023'] = 2023 - (1950-(TEMP_noaa_csv['Year']*1000))"
   ]
  },
  {
   "cell_type": "code",
   "execution_count": 6839,
   "metadata": {},
   "outputs": [
    {
     "data": {
      "text/html": [
       "<div>\n",
       "<style scoped>\n",
       "    .dataframe tbody tr th:only-of-type {\n",
       "        vertical-align: middle;\n",
       "    }\n",
       "\n",
       "    .dataframe tbody tr th {\n",
       "        vertical-align: top;\n",
       "    }\n",
       "\n",
       "    .dataframe thead th {\n",
       "        text-align: right;\n",
       "    }\n",
       "</style>\n",
       "<table border=\"1\" class=\"dataframe\">\n",
       "  <thead>\n",
       "    <tr style=\"text-align: right;\">\n",
       "      <th></th>\n",
       "      <th>Year</th>\n",
       "      <th>Deuterium</th>\n",
       "      <th>Temperature</th>\n",
       "      <th>years_before_2023</th>\n",
       "    </tr>\n",
       "  </thead>\n",
       "  <tbody>\n",
       "    <tr>\n",
       "      <th>0</th>\n",
       "      <td>-50.00000</td>\n",
       "      <td>NaN</td>\n",
       "      <td>NaN</td>\n",
       "      <td>-49927.00</td>\n",
       "    </tr>\n",
       "    <tr>\n",
       "      <th>1</th>\n",
       "      <td>-43.54769</td>\n",
       "      <td>NaN</td>\n",
       "      <td>NaN</td>\n",
       "      <td>-43474.69</td>\n",
       "    </tr>\n",
       "    <tr>\n",
       "      <th>2</th>\n",
       "      <td>-37.41829</td>\n",
       "      <td>NaN</td>\n",
       "      <td>NaN</td>\n",
       "      <td>-37345.29</td>\n",
       "    </tr>\n",
       "    <tr>\n",
       "      <th>3</th>\n",
       "      <td>-31.61153</td>\n",
       "      <td>NaN</td>\n",
       "      <td>NaN</td>\n",
       "      <td>-31538.53</td>\n",
       "    </tr>\n",
       "    <tr>\n",
       "      <th>4</th>\n",
       "      <td>-24.51395</td>\n",
       "      <td>NaN</td>\n",
       "      <td>NaN</td>\n",
       "      <td>-24440.95</td>\n",
       "    </tr>\n",
       "  </tbody>\n",
       "</table>\n",
       "</div>"
      ],
      "text/plain": [
       "       Year  Deuterium  Temperature  years_before_2023\n",
       "0 -50.00000        NaN          NaN          -49927.00\n",
       "1 -43.54769        NaN          NaN          -43474.69\n",
       "2 -37.41829        NaN          NaN          -37345.29\n",
       "3 -31.61153        NaN          NaN          -31538.53\n",
       "4 -24.51395        NaN          NaN          -24440.95"
      ]
     },
     "execution_count": 6839,
     "metadata": {},
     "output_type": "execute_result"
    }
   ],
   "source": [
    "TEMP_noaa_csv.head()"
   ]
  },
  {
   "cell_type": "markdown",
   "metadata": {},
   "source": [
    "# Replace NaN values with a default integer value (e.g., 0)"
   ]
  },
  {
   "cell_type": "code",
   "execution_count": 6840,
   "metadata": {},
   "outputs": [],
   "source": [
    "\n",
    "TEMP_noaa_csv['years_before_2023'].fillna(0, inplace=True)"
   ]
  },
  {
   "cell_type": "markdown",
   "metadata": {},
   "source": [
    "# Convert the column to integers"
   ]
  },
  {
   "cell_type": "code",
   "execution_count": 6841,
   "metadata": {},
   "outputs": [],
   "source": [
    "\n",
    "TEMP_noaa_csv['years_before_2023'] = TEMP_noaa_csv['years_before_2023'].astype(int)"
   ]
  },
  {
   "cell_type": "markdown",
   "metadata": {},
   "source": [
    "Print dataframe"
   ]
  },
  {
   "cell_type": "code",
   "execution_count": 6842,
   "metadata": {},
   "outputs": [
    {
     "name": "stdout",
     "output_type": "stream",
     "text": [
      "              Year  Deuterium  Temperature  years_before_2023\n",
      "0        -50.00000        NaN          NaN             -49927\n",
      "1        -43.54769        NaN          NaN             -43474\n",
      "2        -37.41829        NaN          NaN             -37345\n",
      "3        -31.61153        NaN          NaN             -31538\n",
      "4        -24.51395        NaN          NaN             -24440\n",
      "...            ...        ...          ...                ...\n",
      "5797  799501.00000    -441.10        -8.88          799501073\n",
      "5798  800589.00000    -441.42        -8.92          800589073\n",
      "5799  801662.00000    -440.90        -8.82          801662073\n",
      "5800           NaN        NaN          NaN                  0\n",
      "5801           NaN        NaN          NaN                  0\n",
      "\n",
      "[5802 rows x 4 columns]\n"
     ]
    }
   ],
   "source": [
    "\n",
    "print(TEMP_noaa_csv)"
   ]
  },
  {
   "cell_type": "markdown",
   "metadata": {},
   "source": [
    "# methane 800kyr"
   ]
  },
  {
   "cell_type": "markdown",
   "metadata": {},
   "source": [
    " https://www.ncei.noaa.gov/pub/data/paleo/icecore/antarctica/epica_domec/edc-ch4-2008.txt   (13 - 800000)\n",
    "Column 1: EDC1999 depth (m)\n",
    "Column 2: Gas Age (EDC3 gas age, years before 1950 AD)\n",
    "Column 3: CH4 mean (ppbv)\n",
    "Column 4: 1-sigma uncertainty (ppbv)\n",
    "Column 5: Laboratory (b=Bern, g=Grenoble)\n",
    "\n",
    "EPICA Dome C Ice Core 800KYr Methane Data\n",
    "\n",
    "\n",
    "https://www.ncei.noaa.gov/access/paleo-search/\n",
    "\n",
    "\n",
    "\n"
   ]
  },
  {
   "cell_type": "markdown",
   "metadata": {},
   "source": [
    "READ FILE and asigning names for the data frames"
   ]
  },
  {
   "cell_type": "code",
   "execution_count": 6843,
   "metadata": {},
   "outputs": [],
   "source": [
    "methane= pd.read_table('https://www1.ncdc.noaa.gov/pub/data/paleo/icecore/antarctica/epica_domec/edc-ch4-2008.txt', \n",
    "                          sep = ' ', skipinitialspace=True, skiprows = 155, \n",
    "                          names=['depth', 'yr_bp', 'ch4_ppb', '4', '5', '6', '7'])"
   ]
  },
  {
   "cell_type": "markdown",
   "metadata": {},
   "source": [
    "remove colunms that are not useful"
   ]
  },
  {
   "cell_type": "code",
   "execution_count": 6844,
   "metadata": {},
   "outputs": [],
   "source": [
    "# Specify columns to drop\n",
    "columns_to_drop = ['depth', '4', '5', '6', '7']\n",
    "\n",
    "# Drop the specified columns from the DataFrame\n",
    "methane.drop(columns=columns_to_drop, axis=1, inplace=True)\n",
    "\n"
   ]
  },
  {
   "cell_type": "markdown",
   "metadata": {},
   "source": [
    "Create Colunm year to calculate year"
   ]
  },
  {
   "cell_type": "code",
   "execution_count": 6845,
   "metadata": {},
   "outputs": [],
   "source": [
    "methane['year'] = 1950 - methane['yr_bp']"
   ]
  },
  {
   "cell_type": "markdown",
   "metadata": {},
   "source": [
    "Calculate Years before 2023"
   ]
  },
  {
   "cell_type": "code",
   "execution_count": 6846,
   "metadata": {},
   "outputs": [],
   "source": [
    "def years_before_present(sample):\n",
    "    sample['years_before_2023'] = 2023 - sample['year']\n"
   ]
  },
  {
   "cell_type": "markdown",
   "metadata": {},
   "source": [
    "change dataframes to anscending orders"
   ]
  },
  {
   "cell_type": "code",
   "execution_count": 6847,
   "metadata": {},
   "outputs": [],
   "source": [
    "methane = methane.sort_values('year', ascending=False)"
   ]
  },
  {
   "cell_type": "code",
   "execution_count": 6848,
   "metadata": {},
   "outputs": [],
   "source": [
    "sets = [methane]\n",
    "\n",
    "for set in sets: years_before_present(set)"
   ]
  },
  {
   "cell_type": "code",
   "execution_count": 6849,
   "metadata": {},
   "outputs": [],
   "source": [
    "methane = methane.sort_values('year', ascending=False)"
   ]
  },
  {
   "cell_type": "markdown",
   "metadata": {},
   "source": [
    "# rearranging"
   ]
  },
  {
   "cell_type": "code",
   "execution_count": 6850,
   "metadata": {},
   "outputs": [],
   "source": [
    "methane = methane.reindex(columns=['year', 'ch4_ppb', 'years_before_2023', 'yr_bp'])"
   ]
  },
  {
   "cell_type": "markdown",
   "metadata": {},
   "source": [
    "drop yr_bp columns"
   ]
  },
  {
   "cell_type": "code",
   "execution_count": 6851,
   "metadata": {},
   "outputs": [],
   "source": [
    "methane.drop('yr_bp', axis=1, inplace=True)"
   ]
  },
  {
   "cell_type": "code",
   "execution_count": 6852,
   "metadata": {},
   "outputs": [
    {
     "data": {
      "text/html": [
       "<div>\n",
       "<style scoped>\n",
       "    .dataframe tbody tr th:only-of-type {\n",
       "        vertical-align: middle;\n",
       "    }\n",
       "\n",
       "    .dataframe tbody tr th {\n",
       "        vertical-align: top;\n",
       "    }\n",
       "\n",
       "    .dataframe thead th {\n",
       "        text-align: right;\n",
       "    }\n",
       "</style>\n",
       "<table border=\"1\" class=\"dataframe\">\n",
       "  <thead>\n",
       "    <tr style=\"text-align: right;\">\n",
       "      <th></th>\n",
       "      <th>year</th>\n",
       "      <th>ch4_ppb</th>\n",
       "      <th>years_before_2023</th>\n",
       "    </tr>\n",
       "  </thead>\n",
       "  <tbody>\n",
       "    <tr>\n",
       "      <th>0</th>\n",
       "      <td>1824</td>\n",
       "      <td>784</td>\n",
       "      <td>199</td>\n",
       "    </tr>\n",
       "    <tr>\n",
       "      <th>1</th>\n",
       "      <td>1820</td>\n",
       "      <td>762</td>\n",
       "      <td>203</td>\n",
       "    </tr>\n",
       "    <tr>\n",
       "      <th>2</th>\n",
       "      <td>1799</td>\n",
       "      <td>710</td>\n",
       "      <td>224</td>\n",
       "    </tr>\n",
       "    <tr>\n",
       "      <th>3</th>\n",
       "      <td>1766</td>\n",
       "      <td>727</td>\n",
       "      <td>257</td>\n",
       "    </tr>\n",
       "    <tr>\n",
       "      <th>4</th>\n",
       "      <td>1748</td>\n",
       "      <td>696</td>\n",
       "      <td>275</td>\n",
       "    </tr>\n",
       "    <tr>\n",
       "      <th>...</th>\n",
       "      <td>...</td>\n",
       "      <td>...</td>\n",
       "      <td>...</td>\n",
       "    </tr>\n",
       "    <tr>\n",
       "      <th>2097</th>\n",
       "      <td>-792988</td>\n",
       "      <td>428</td>\n",
       "      <td>795011</td>\n",
       "    </tr>\n",
       "    <tr>\n",
       "      <th>2098</th>\n",
       "      <td>-794370</td>\n",
       "      <td>418</td>\n",
       "      <td>796393</td>\n",
       "    </tr>\n",
       "    <tr>\n",
       "      <th>2099</th>\n",
       "      <td>-795327</td>\n",
       "      <td>396</td>\n",
       "      <td>797350</td>\n",
       "    </tr>\n",
       "    <tr>\n",
       "      <th>2100</th>\n",
       "      <td>-796467</td>\n",
       "      <td>458</td>\n",
       "      <td>798490</td>\n",
       "    </tr>\n",
       "    <tr>\n",
       "      <th>2101</th>\n",
       "      <td>-797446</td>\n",
       "      <td>399</td>\n",
       "      <td>799469</td>\n",
       "    </tr>\n",
       "  </tbody>\n",
       "</table>\n",
       "<p>2102 rows × 3 columns</p>\n",
       "</div>"
      ],
      "text/plain": [
       "        year  ch4_ppb  years_before_2023\n",
       "0       1824      784                199\n",
       "1       1820      762                203\n",
       "2       1799      710                224\n",
       "3       1766      727                257\n",
       "4       1748      696                275\n",
       "...      ...      ...                ...\n",
       "2097 -792988      428             795011\n",
       "2098 -794370      418             796393\n",
       "2099 -795327      396             797350\n",
       "2100 -796467      458             798490\n",
       "2101 -797446      399             799469\n",
       "\n",
       "[2102 rows x 3 columns]"
      ]
     },
     "execution_count": 6852,
     "metadata": {},
     "output_type": "execute_result"
    }
   ],
   "source": [
    "methane"
   ]
  },
  {
   "cell_type": "markdown",
   "metadata": {},
   "source": [
    "REARRANGING COLUMNS"
   ]
  },
  {
   "cell_type": "code",
   "execution_count": 6853,
   "metadata": {},
   "outputs": [],
   "source": [
    " methane =methane.reindex(columns=['years_before_2023', 'year', 'ch4_ppb'])"
   ]
  },
  {
   "cell_type": "code",
   "execution_count": 6854,
   "metadata": {},
   "outputs": [
    {
     "data": {
      "text/html": [
       "<div>\n",
       "<style scoped>\n",
       "    .dataframe tbody tr th:only-of-type {\n",
       "        vertical-align: middle;\n",
       "    }\n",
       "\n",
       "    .dataframe tbody tr th {\n",
       "        vertical-align: top;\n",
       "    }\n",
       "\n",
       "    .dataframe thead th {\n",
       "        text-align: right;\n",
       "    }\n",
       "</style>\n",
       "<table border=\"1\" class=\"dataframe\">\n",
       "  <thead>\n",
       "    <tr style=\"text-align: right;\">\n",
       "      <th></th>\n",
       "      <th>years_before_2023</th>\n",
       "      <th>year</th>\n",
       "      <th>ch4_ppb</th>\n",
       "    </tr>\n",
       "  </thead>\n",
       "  <tbody>\n",
       "    <tr>\n",
       "      <th>0</th>\n",
       "      <td>199</td>\n",
       "      <td>1824</td>\n",
       "      <td>784</td>\n",
       "    </tr>\n",
       "    <tr>\n",
       "      <th>1</th>\n",
       "      <td>203</td>\n",
       "      <td>1820</td>\n",
       "      <td>762</td>\n",
       "    </tr>\n",
       "    <tr>\n",
       "      <th>2</th>\n",
       "      <td>224</td>\n",
       "      <td>1799</td>\n",
       "      <td>710</td>\n",
       "    </tr>\n",
       "    <tr>\n",
       "      <th>3</th>\n",
       "      <td>257</td>\n",
       "      <td>1766</td>\n",
       "      <td>727</td>\n",
       "    </tr>\n",
       "    <tr>\n",
       "      <th>4</th>\n",
       "      <td>275</td>\n",
       "      <td>1748</td>\n",
       "      <td>696</td>\n",
       "    </tr>\n",
       "    <tr>\n",
       "      <th>...</th>\n",
       "      <td>...</td>\n",
       "      <td>...</td>\n",
       "      <td>...</td>\n",
       "    </tr>\n",
       "    <tr>\n",
       "      <th>2097</th>\n",
       "      <td>795011</td>\n",
       "      <td>-792988</td>\n",
       "      <td>428</td>\n",
       "    </tr>\n",
       "    <tr>\n",
       "      <th>2098</th>\n",
       "      <td>796393</td>\n",
       "      <td>-794370</td>\n",
       "      <td>418</td>\n",
       "    </tr>\n",
       "    <tr>\n",
       "      <th>2099</th>\n",
       "      <td>797350</td>\n",
       "      <td>-795327</td>\n",
       "      <td>396</td>\n",
       "    </tr>\n",
       "    <tr>\n",
       "      <th>2100</th>\n",
       "      <td>798490</td>\n",
       "      <td>-796467</td>\n",
       "      <td>458</td>\n",
       "    </tr>\n",
       "    <tr>\n",
       "      <th>2101</th>\n",
       "      <td>799469</td>\n",
       "      <td>-797446</td>\n",
       "      <td>399</td>\n",
       "    </tr>\n",
       "  </tbody>\n",
       "</table>\n",
       "<p>2102 rows × 3 columns</p>\n",
       "</div>"
      ],
      "text/plain": [
       "      years_before_2023    year  ch4_ppb\n",
       "0                   199    1824      784\n",
       "1                   203    1820      762\n",
       "2                   224    1799      710\n",
       "3                   257    1766      727\n",
       "4                   275    1748      696\n",
       "...                 ...     ...      ...\n",
       "2097             795011 -792988      428\n",
       "2098             796393 -794370      418\n",
       "2099             797350 -795327      396\n",
       "2100             798490 -796467      458\n",
       "2101             799469 -797446      399\n",
       "\n",
       "[2102 rows x 3 columns]"
      ]
     },
     "execution_count": 6854,
     "metadata": {},
     "output_type": "execute_result"
    }
   ],
   "source": [
    "methane"
   ]
  },
  {
   "cell_type": "markdown",
   "metadata": {},
   "source": [
    "REMOVING DUPLICATE"
   ]
  },
  {
   "cell_type": "code",
   "execution_count": 6855,
   "metadata": {},
   "outputs": [],
   "source": [
    "methane.drop_duplicates(subset='years_before_2023', keep='first', inplace=True)"
   ]
  },
  {
   "cell_type": "markdown",
   "metadata": {},
   "source": [
    "Change year to integers"
   ]
  },
  {
   "cell_type": "code",
   "execution_count": 6856,
   "metadata": {},
   "outputs": [],
   "source": [
    "methane = methane.astype({'year':'int', 'years_before_2023':'int'})"
   ]
  },
  {
   "cell_type": "code",
   "execution_count": 6857,
   "metadata": {},
   "outputs": [
    {
     "data": {
      "text/html": [
       "<div>\n",
       "<style scoped>\n",
       "    .dataframe tbody tr th:only-of-type {\n",
       "        vertical-align: middle;\n",
       "    }\n",
       "\n",
       "    .dataframe tbody tr th {\n",
       "        vertical-align: top;\n",
       "    }\n",
       "\n",
       "    .dataframe thead th {\n",
       "        text-align: right;\n",
       "    }\n",
       "</style>\n",
       "<table border=\"1\" class=\"dataframe\">\n",
       "  <thead>\n",
       "    <tr style=\"text-align: right;\">\n",
       "      <th></th>\n",
       "      <th>years_before_2023</th>\n",
       "      <th>year</th>\n",
       "      <th>ch4_ppb</th>\n",
       "    </tr>\n",
       "  </thead>\n",
       "  <tbody>\n",
       "    <tr>\n",
       "      <th>0</th>\n",
       "      <td>199</td>\n",
       "      <td>1824</td>\n",
       "      <td>784</td>\n",
       "    </tr>\n",
       "    <tr>\n",
       "      <th>1</th>\n",
       "      <td>203</td>\n",
       "      <td>1820</td>\n",
       "      <td>762</td>\n",
       "    </tr>\n",
       "    <tr>\n",
       "      <th>2</th>\n",
       "      <td>224</td>\n",
       "      <td>1799</td>\n",
       "      <td>710</td>\n",
       "    </tr>\n",
       "    <tr>\n",
       "      <th>3</th>\n",
       "      <td>257</td>\n",
       "      <td>1766</td>\n",
       "      <td>727</td>\n",
       "    </tr>\n",
       "    <tr>\n",
       "      <th>4</th>\n",
       "      <td>275</td>\n",
       "      <td>1748</td>\n",
       "      <td>696</td>\n",
       "    </tr>\n",
       "    <tr>\n",
       "      <th>...</th>\n",
       "      <td>...</td>\n",
       "      <td>...</td>\n",
       "      <td>...</td>\n",
       "    </tr>\n",
       "    <tr>\n",
       "      <th>2097</th>\n",
       "      <td>795011</td>\n",
       "      <td>-792988</td>\n",
       "      <td>428</td>\n",
       "    </tr>\n",
       "    <tr>\n",
       "      <th>2098</th>\n",
       "      <td>796393</td>\n",
       "      <td>-794370</td>\n",
       "      <td>418</td>\n",
       "    </tr>\n",
       "    <tr>\n",
       "      <th>2099</th>\n",
       "      <td>797350</td>\n",
       "      <td>-795327</td>\n",
       "      <td>396</td>\n",
       "    </tr>\n",
       "    <tr>\n",
       "      <th>2100</th>\n",
       "      <td>798490</td>\n",
       "      <td>-796467</td>\n",
       "      <td>458</td>\n",
       "    </tr>\n",
       "    <tr>\n",
       "      <th>2101</th>\n",
       "      <td>799469</td>\n",
       "      <td>-797446</td>\n",
       "      <td>399</td>\n",
       "    </tr>\n",
       "  </tbody>\n",
       "</table>\n",
       "<p>2102 rows × 3 columns</p>\n",
       "</div>"
      ],
      "text/plain": [
       "      years_before_2023    year  ch4_ppb\n",
       "0                   199    1824      784\n",
       "1                   203    1820      762\n",
       "2                   224    1799      710\n",
       "3                   257    1766      727\n",
       "4                   275    1748      696\n",
       "...                 ...     ...      ...\n",
       "2097             795011 -792988      428\n",
       "2098             796393 -794370      418\n",
       "2099             797350 -795327      396\n",
       "2100             798490 -796467      458\n",
       "2101             799469 -797446      399\n",
       "\n",
       "[2102 rows x 3 columns]"
      ]
     },
     "execution_count": 6857,
     "metadata": {},
     "output_type": "execute_result"
    }
   ],
   "source": [
    "methane"
   ]
  },
  {
   "cell_type": "markdown",
   "metadata": {},
   "source": [
    "# Methane 2023"
   ]
  },
  {
   "cell_type": "markdown",
   "metadata": {},
   "source": [
    "read in file "
   ]
  },
  {
   "cell_type": "markdown",
   "metadata": {},
   "source": [
    "Read files"
   ]
  },
  {
   "cell_type": "code",
   "execution_count": 6858,
   "metadata": {},
   "outputs": [],
   "source": [
    "methane_2023 = pd.read_csv(r'C:\\Users\\fifoa\\OneDrive\\Desktop\\ATU\\PFDA-PROJECT-2\\methane2023.csv')"
   ]
  },
  {
   "cell_type": "code",
   "execution_count": 6859,
   "metadata": {},
   "outputs": [],
   "source": [
    "dates = pd.date_range(start='1983', end='2023', freq='MS')"
   ]
  },
  {
   "cell_type": "code",
   "execution_count": 6860,
   "metadata": {},
   "outputs": [
    {
     "data": {
      "text/html": [
       "<div>\n",
       "<style scoped>\n",
       "    .dataframe tbody tr th:only-of-type {\n",
       "        vertical-align: middle;\n",
       "    }\n",
       "\n",
       "    .dataframe tbody tr th {\n",
       "        vertical-align: top;\n",
       "    }\n",
       "\n",
       "    .dataframe thead th {\n",
       "        text-align: right;\n",
       "    }\n",
       "</style>\n",
       "<table border=\"1\" class=\"dataframe\">\n",
       "  <thead>\n",
       "    <tr style=\"text-align: right;\">\n",
       "      <th></th>\n",
       "      <th>year</th>\n",
       "      <th>month</th>\n",
       "      <th>decimal</th>\n",
       "      <th>average</th>\n",
       "      <th>average_unc</th>\n",
       "      <th>trend</th>\n",
       "      <th>trend_unc</th>\n",
       "    </tr>\n",
       "  </thead>\n",
       "  <tbody>\n",
       "    <tr>\n",
       "      <th>0</th>\n",
       "      <td>1983</td>\n",
       "      <td>7</td>\n",
       "      <td>1983.542</td>\n",
       "      <td>1625.94</td>\n",
       "      <td>2.26</td>\n",
       "      <td>1634.88</td>\n",
       "      <td>1.45</td>\n",
       "    </tr>\n",
       "    <tr>\n",
       "      <th>1</th>\n",
       "      <td>1983</td>\n",
       "      <td>8</td>\n",
       "      <td>1983.625</td>\n",
       "      <td>1628.06</td>\n",
       "      <td>2.88</td>\n",
       "      <td>1635.45</td>\n",
       "      <td>1.39</td>\n",
       "    </tr>\n",
       "    <tr>\n",
       "      <th>2</th>\n",
       "      <td>1983</td>\n",
       "      <td>9</td>\n",
       "      <td>1983.708</td>\n",
       "      <td>1638.44</td>\n",
       "      <td>2.34</td>\n",
       "      <td>1636.07</td>\n",
       "      <td>1.32</td>\n",
       "    </tr>\n",
       "    <tr>\n",
       "      <th>3</th>\n",
       "      <td>1983</td>\n",
       "      <td>10</td>\n",
       "      <td>1983.792</td>\n",
       "      <td>1644.79</td>\n",
       "      <td>1.50</td>\n",
       "      <td>1636.75</td>\n",
       "      <td>1.24</td>\n",
       "    </tr>\n",
       "    <tr>\n",
       "      <th>4</th>\n",
       "      <td>1983</td>\n",
       "      <td>11</td>\n",
       "      <td>1983.875</td>\n",
       "      <td>1642.60</td>\n",
       "      <td>0.73</td>\n",
       "      <td>1637.49</td>\n",
       "      <td>1.16</td>\n",
       "    </tr>\n",
       "    <tr>\n",
       "      <th>...</th>\n",
       "      <td>...</td>\n",
       "      <td>...</td>\n",
       "      <td>...</td>\n",
       "      <td>...</td>\n",
       "      <td>...</td>\n",
       "      <td>...</td>\n",
       "      <td>...</td>\n",
       "    </tr>\n",
       "    <tr>\n",
       "      <th>478</th>\n",
       "      <td>2023</td>\n",
       "      <td>5</td>\n",
       "      <td>2023.375</td>\n",
       "      <td>1920.00</td>\n",
       "      <td>-9.99</td>\n",
       "      <td>1922.60</td>\n",
       "      <td>-9.99</td>\n",
       "    </tr>\n",
       "    <tr>\n",
       "      <th>479</th>\n",
       "      <td>2023</td>\n",
       "      <td>6</td>\n",
       "      <td>2023.458</td>\n",
       "      <td>1915.94</td>\n",
       "      <td>-9.99</td>\n",
       "      <td>1923.72</td>\n",
       "      <td>-9.99</td>\n",
       "    </tr>\n",
       "    <tr>\n",
       "      <th>480</th>\n",
       "      <td>2023</td>\n",
       "      <td>7</td>\n",
       "      <td>2023.542</td>\n",
       "      <td>1914.56</td>\n",
       "      <td>-9.99</td>\n",
       "      <td>1924.85</td>\n",
       "      <td>-9.99</td>\n",
       "    </tr>\n",
       "    <tr>\n",
       "      <th>481</th>\n",
       "      <td>2023</td>\n",
       "      <td>8</td>\n",
       "      <td>2023.625</td>\n",
       "      <td>1919.15</td>\n",
       "      <td>-9.99</td>\n",
       "      <td>1926.00</td>\n",
       "      <td>-9.99</td>\n",
       "    </tr>\n",
       "    <tr>\n",
       "      <th>482</th>\n",
       "      <td>2023</td>\n",
       "      <td>9</td>\n",
       "      <td>2023.708</td>\n",
       "      <td>1927.35</td>\n",
       "      <td>-9.99</td>\n",
       "      <td>1927.13</td>\n",
       "      <td>-9.99</td>\n",
       "    </tr>\n",
       "  </tbody>\n",
       "</table>\n",
       "<p>483 rows × 7 columns</p>\n",
       "</div>"
      ],
      "text/plain": [
       "     year  month   decimal  average  average_unc    trend  trend_unc\n",
       "0    1983      7  1983.542  1625.94         2.26  1634.88       1.45\n",
       "1    1983      8  1983.625  1628.06         2.88  1635.45       1.39\n",
       "2    1983      9  1983.708  1638.44         2.34  1636.07       1.32\n",
       "3    1983     10  1983.792  1644.79         1.50  1636.75       1.24\n",
       "4    1983     11  1983.875  1642.60         0.73  1637.49       1.16\n",
       "..    ...    ...       ...      ...          ...      ...        ...\n",
       "478  2023      5  2023.375  1920.00        -9.99  1922.60      -9.99\n",
       "479  2023      6  2023.458  1915.94        -9.99  1923.72      -9.99\n",
       "480  2023      7  2023.542  1914.56        -9.99  1924.85      -9.99\n",
       "481  2023      8  2023.625  1919.15        -9.99  1926.00      -9.99\n",
       "482  2023      9  2023.708  1927.35        -9.99  1927.13      -9.99\n",
       "\n",
       "[483 rows x 7 columns]"
      ]
     },
     "execution_count": 6860,
     "metadata": {},
     "output_type": "execute_result"
    }
   ],
   "source": [
    "methane_2023"
   ]
  },
  {
   "cell_type": "markdown",
   "metadata": {},
   "source": [
    "IRISH CLIMATE"
   ]
  },
  {
   "cell_type": "code",
   "execution_count": 6861,
   "metadata": {},
   "outputs": [],
   "source": [
    "irish_climate_csv = pd.read_csv(r'C:\\Users\\fifoa\\OneDrive\\Desktop\\ATU\\PFDA-PROJECT-2\\irish climate.csv')"
   ]
  },
  {
   "cell_type": "code",
   "execution_count": 6862,
   "metadata": {},
   "outputs": [
    {
     "data": {
      "text/html": [
       "<div>\n",
       "<style scoped>\n",
       "    .dataframe tbody tr th:only-of-type {\n",
       "        vertical-align: middle;\n",
       "    }\n",
       "\n",
       "    .dataframe tbody tr th {\n",
       "        vertical-align: top;\n",
       "    }\n",
       "\n",
       "    .dataframe thead th {\n",
       "        text-align: right;\n",
       "    }\n",
       "</style>\n",
       "<table border=\"1\" class=\"dataframe\">\n",
       "  <thead>\n",
       "    <tr style=\"text-align: right;\">\n",
       "      <th></th>\n",
       "      <th>Year</th>\n",
       "      <th>Month</th>\n",
       "      <th>Median montly series</th>\n",
       "    </tr>\n",
       "  </thead>\n",
       "  <tbody>\n",
       "    <tr>\n",
       "      <th>0</th>\n",
       "      <td>1711</td>\n",
       "      <td>1</td>\n",
       "      <td>16.4</td>\n",
       "    </tr>\n",
       "    <tr>\n",
       "      <th>1</th>\n",
       "      <td>1711</td>\n",
       "      <td>2</td>\n",
       "      <td>73.1</td>\n",
       "    </tr>\n",
       "    <tr>\n",
       "      <th>2</th>\n",
       "      <td>1711</td>\n",
       "      <td>3</td>\n",
       "      <td>121.2</td>\n",
       "    </tr>\n",
       "    <tr>\n",
       "      <th>3</th>\n",
       "      <td>1711</td>\n",
       "      <td>4</td>\n",
       "      <td>85.2</td>\n",
       "    </tr>\n",
       "    <tr>\n",
       "      <th>4</th>\n",
       "      <td>1711</td>\n",
       "      <td>5</td>\n",
       "      <td>66.6</td>\n",
       "    </tr>\n",
       "    <tr>\n",
       "      <th>...</th>\n",
       "      <td>...</td>\n",
       "      <td>...</td>\n",
       "      <td>...</td>\n",
       "    </tr>\n",
       "    <tr>\n",
       "      <th>3667</th>\n",
       "      <td>2016</td>\n",
       "      <td>8</td>\n",
       "      <td>79.1</td>\n",
       "    </tr>\n",
       "    <tr>\n",
       "      <th>3668</th>\n",
       "      <td>2016</td>\n",
       "      <td>9</td>\n",
       "      <td>108.1</td>\n",
       "    </tr>\n",
       "    <tr>\n",
       "      <th>3669</th>\n",
       "      <td>2016</td>\n",
       "      <td>10</td>\n",
       "      <td>51.8</td>\n",
       "    </tr>\n",
       "    <tr>\n",
       "      <th>3670</th>\n",
       "      <td>2016</td>\n",
       "      <td>11</td>\n",
       "      <td>58.0</td>\n",
       "    </tr>\n",
       "    <tr>\n",
       "      <th>3671</th>\n",
       "      <td>2016</td>\n",
       "      <td>12</td>\n",
       "      <td>92.1</td>\n",
       "    </tr>\n",
       "  </tbody>\n",
       "</table>\n",
       "<p>3672 rows × 3 columns</p>\n",
       "</div>"
      ],
      "text/plain": [
       "      Year  Month  Median montly series\n",
       "0     1711      1                  16.4\n",
       "1     1711      2                  73.1\n",
       "2     1711      3                 121.2\n",
       "3     1711      4                  85.2\n",
       "4     1711      5                  66.6\n",
       "...    ...    ...                   ...\n",
       "3667  2016      8                  79.1\n",
       "3668  2016      9                 108.1\n",
       "3669  2016     10                  51.8\n",
       "3670  2016     11                  58.0\n",
       "3671  2016     12                  92.1\n",
       "\n",
       "[3672 rows x 3 columns]"
      ]
     },
     "execution_count": 6862,
     "metadata": {},
     "output_type": "execute_result"
    }
   ],
   "source": [
    "irish_climate_csv"
   ]
  },
  {
   "cell_type": "markdown",
   "metadata": {},
   "source": [
    "merged the months and year columns to create the time series"
   ]
  },
  {
   "cell_type": "code",
   "execution_count": 6863,
   "metadata": {},
   "outputs": [],
   "source": [
    "import pandas as pd\n",
    "\n",
    "\n",
    "irish_climate_csv['TimeSeries'] = pd.to_datetime(irish_climate_csv['Year'].astype(str) + '-' + irish_climate_csv['Month'].astype(str), format='%Y-%m')\n",
    "\n"
   ]
  },
  {
   "cell_type": "markdown",
   "metadata": {},
   "source": [
    "#  set the 'TimeSeries' column as the index"
   ]
  },
  {
   "cell_type": "code",
   "execution_count": 6864,
   "metadata": {},
   "outputs": [],
   "source": [
    "\n",
    "\n",
    "\n",
    "irish_climate_csv.set_index('TimeSeries', inplace=True)\n",
    "\n",
    "\n"
   ]
  },
  {
   "cell_type": "code",
   "execution_count": 6865,
   "metadata": {},
   "outputs": [
    {
     "name": "stdout",
     "output_type": "stream",
     "text": [
      "            Year  Month  Median montly series\n",
      "TimeSeries                                   \n",
      "1711-01-01  1711      1                  16.4\n",
      "1711-02-01  1711      2                  73.1\n",
      "1711-03-01  1711      3                 121.2\n",
      "1711-04-01  1711      4                  85.2\n",
      "1711-05-01  1711      5                  66.6\n",
      "...          ...    ...                   ...\n",
      "2016-08-01  2016      8                  79.1\n",
      "2016-09-01  2016      9                 108.1\n",
      "2016-10-01  2016     10                  51.8\n",
      "2016-11-01  2016     11                  58.0\n",
      "2016-12-01  2016     12                  92.1\n",
      "\n",
      "[3672 rows x 3 columns]\n"
     ]
    }
   ],
   "source": [
    "# Print the DataFrame after merging columns\n",
    "print(irish_climate_csv)"
   ]
  }
 ],
 "metadata": {
  "kernelspec": {
   "display_name": "base",
   "language": "python",
   "name": "python3"
  },
  "language_info": {
   "codemirror_mode": {
    "name": "ipython",
    "version": 3
   },
   "file_extension": ".py",
   "mimetype": "text/x-python",
   "name": "python",
   "nbconvert_exporter": "python",
   "pygments_lexer": "ipython3",
   "version": "3.9.13"
  }
 },
 "nbformat": 4,
 "nbformat_minor": 2
}
