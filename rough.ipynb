{
 "cells": [
  {
   "cell_type": "markdown",
   "metadata": {},
   "source": [
    "# Programing for data analytics project 2"
   ]
  },
  {
   "cell_type": "markdown",
   "metadata": {},
   "source": [
    "# Question\n",
    "\n",
    "• Analyse CO2 vs Temperature Anomaly from 800kyrs – present.\n",
    "• Examine one other (paleo/modern) features (e.g. CH4 or polar ice-coverage)\n",
    "• Examine Irish context:\n",
    "o Climate change signals: (see Maynooth study: The emergence of a climate change\n",
    "signal in long-term Irish meteorological observations - ScienceDirect)\n",
    "• Fuse and analyse data from various data sources and format fused data set as a pandas\n",
    "dataframe and export to csv and json formats\n",
    "• For all of the above variables, analyse the data, the trends and the relationships between\n",
    "them (temporal leads/lags/frequency analysis).\n",
    "• Predict global temperature anomaly over next few decades (synthesise data) and compare to\n",
    "published climate models if atmospheric CO2 trends continue\n",
    "• Comment on accelerated warming based on very latest features (e.g. temperature/polar-icecoverage)\n",
    "Use a Jupyter notebook for your analysis and track your progress using GitHub.\n",
    "Use an academic referencing style"
   ]
  },
  {
   "cell_type": "markdown",
   "metadata": {},
   "source": [
    "# Import Required Libraries:"
   ]
  },
  {
   "cell_type": "code",
   "execution_count": 1167,
   "metadata": {},
   "outputs": [],
   "source": [
    "import pandas as pd\n",
    "import matplotlib.pyplot as plt\n",
    "import seaborn as sns\n",
    "import numpy as np\n",
    "from sklearn.linear_model import LinearRegression\n",
    "from scipy import signal\n",
    "from datetime import date\n"
   ]
  },
  {
   "cell_type": "markdown",
   "metadata": {},
   "source": [
    "# import data and reading the file \n",
    "this code loads data from an Excel file into two separate pandas DataFrames (CO2_LUTHI and CO2_LUTHI_new). Each DataFrame corresponds to a specific sheet in the Excel file, and the data can then be analyzed and manipulated using pandas functionalities. The file path and sheet names are specified using raw string literals to handle any potential issues with escape characters or special characters in the file path.\n",
    "\n",
    "\n",
    "\n",
    "# CO2 LUTHI   \n"
   ]
  },
  {
   "cell_type": "code",
   "execution_count": 1168,
   "metadata": {},
   "outputs": [],
   "source": [
    "CO2_LUTHI = pd.read_excel(\n",
    "    r'C:\\Users\\fifoa\\OneDrive\\Desktop\\ATU\\PFDA-PROJECT-2\\CO2 LUTHI.xls', sheet_name='2.  Vostok-TD-Dome C')\n",
    "CO2_LUTHI_new = pd.read_excel(\n",
    "    r'C:\\Users\\fifoa\\OneDrive\\Desktop\\ATU\\PFDA-PROJECT-2\\CO2 LUTHI.xls', sheet_name='1.  new CO2 data')\n"
   ]
  },
  {
   "cell_type": "markdown",
   "metadata": {},
   "source": [
    "# data extraction and slicing  DataFrames \n",
    "slicing_params is a list of tuples where each tuple contains the slicing parameters for one DataFrame. The loop iterates through these parameters, extracts the corresponding subset from CO2_LUTHI or CO2_LUTHI_new, and appends the subset to the resulting_dfs list. Finally, the resulting DataFrames are assigned to separate variables with meaningful names.\n",
    "\n",
    "Data Extraction and Slicing from CO2 LUTHI DataFrames\"\n",
    "\"DataFrame Slicing for Multiple Variables in CO2 LUTHI Data\"\n",
    "\"Subset Creation from CO2 LUTHI and CO2 LUTHI New DataFrames\"\n",
    "\"Analysis: Extracting Specific Data from CO2 LUTHI and CO2 LUTHI New\"\n",
    "\"Data Exploration: Selecting Subsets from CO2 LUTHI and CO2 LUTHI New\"\n",
    "\n",
    "\n",
    "This approach makes it easy to add or modify slicing parameters without duplicating code for each DataFrame extraction.\n",
    "\n",
    "EXAMPLE FROM THE BELOW IS USED TO CREATE BELOW\n",
    "https://stackoverflow.com/questions/1335392/iteration-over-list-slices\n",
    "\n",
    "https://medium.com/probably-programming/python-slicing-looping-and-copying-a-list-a2ad96a170ba#:~:text=You%20can%20use%20a%20slice%20in%20a%20for,of%20the%20office%20are%3A%20%3E%3E%3E%20Michael%20%3E%3E%3E%20Dwight\n",
    "\n",
    "\n",
    "\n",
    "\n",
    "\n",
    "\n"
   ]
  },
  {
   "cell_type": "code",
   "execution_count": 1169,
   "metadata": {},
   "outputs": [],
   "source": [
    "monnin_luthi = CO2_LUTHI.iloc[6:189, 1:3]\n",
    "pettit_luthi = CO2_LUTHI.iloc[19:353, 5:7]\n",
    "siegenthaler_1_LUTHI = CO2_LUTHI.iloc[6:26, 16:18]\n",
    "siegenthaler_2_LUTHI = CO2_LUTHI.iloc[6:328, 12:14]\n",
    "luthi_luthi = CO2_LUTHI_new.iloc[16:253, 1:3]"
   ]
  },
  {
   "cell_type": "markdown",
   "metadata": {},
   "source": [
    "# REPLACING NAMES AND RENAMING COLUMNS \n",
    "\n",
    "\n",
    "This loop dynamically renames the columns based on the number of columns in each subset. It uses a list comprehension to create logical column names"
   ]
  },
  {
   "cell_type": "code",
   "execution_count": 1170,
   "metadata": {},
   "outputs": [],
   "source": [
    "monnin_luthi.rename(columns=({'Unnamed: 1':'yr_bp', 'Unnamed: 2':'co2_ppmv'}), inplace=True)\n",
    "pettit_luthi.rename(columns=({'Unnamed: 5':'yr_bp', 'Unnamed: 6':'co2_ppmv'}), inplace=True)\n",
    "siegenthaler_1_luthi.rename(columns=({'Unnamed: 16':'yr_bp', 'Unnamed: 17':'co2_ppmv'}), inplace=True)\n",
    "siegenthaler_2_luthi.rename(columns=({'Unnamed: 12':'yr_bp', 'Unnamed: 13':'co2_ppmv'}), inplace=True)\n",
    "luthi_luthi.rename(columns=({'Unnamed: 1':'yr_bp', 'Unnamed: 2':'co2_ppmv'}), inplace=True)"
   ]
  },
  {
   "cell_type": "markdown",
   "metadata": {},
   "source": [
    "Generating a column to compute the number of years before 2023 and removing row countaining null \n",
    "\n",
    "\n",
    "\n",
    "\n"
   ]
  },
  {
   "cell_type": "code",
   "execution_count": 1171,
   "metadata": {},
   "outputs": [],
   "source": [
    "\n",
    "import pandas as pd\n",
    "\n",
    "def process_dataframe(df):\n",
    "    # Rename columns\n",
    "    df.rename(columns={'Unnamed: 1': 'yr_bp', 'Unnamed: 2': 'co2_ppmv'}, inplace=True)\n",
    "\n",
    "    # Create a column that calculates the number of years before 2023\n",
    "    df['years_before_2023'] = 2023 - df['yr_bp']\n",
    "\n",
    "    # Create a column that calculates the year\n",
    "    df['calculated_year'] = 2023 + df['years_before_2023']\n",
    "\n",
    "    # Drop rows with null values\n",
    "    df.dropna(inplace=True)\n",
    "\n",
    "# Example usage for each DataFrame\n",
    "process_dataframe(monnin_luthi)\n",
    "process_dataframe(pettit_luthi)\n",
    "process_dataframe(siegenthaler_1_luthi)\n",
    "process_dataframe(siegenthaler_2_luthi)\n",
    "process_dataframe(luthi_luthi)\n"
   ]
  },
  {
   "cell_type": "markdown",
   "metadata": {},
   "source": [
    "concatenates a list of DataFrames (luthi_frames) into a single DataFrame (luthi_full_co2_data) along a new index, effectively combining the CO2 data from different studies into a unified dataset."
   ]
  },
  {
   "cell_type": "code",
   "execution_count": 1172,
   "metadata": {},
   "outputs": [],
   "source": [
    "luthi_frames = [monnin_luthi ,pettit_luthi, siegenthaler_1_luthi, siegenthaler_2_luthi, luthi_luthi]\n",
    "\n",
    "luthi_full_co2_data = pd.concat(luthi_frames, ignore_index = True)"
   ]
  },
  {
   "cell_type": "markdown",
   "metadata": {},
   "source": [
    "The code luthi_full_co2_data.head() is displaying the first few rows of the DataFrame luthi_full_co2_data. The head() method in pandas is used to retrieve the top rows of a DataFrame, and by default, it returns the first five rows"
   ]
  },
  {
   "cell_type": "code",
   "execution_count": 1173,
   "metadata": {},
   "outputs": [
    {
     "data": {
      "text/html": [
       "<div>\n",
       "<style scoped>\n",
       "    .dataframe tbody tr th:only-of-type {\n",
       "        vertical-align: middle;\n",
       "    }\n",
       "\n",
       "    .dataframe tbody tr th {\n",
       "        vertical-align: top;\n",
       "    }\n",
       "\n",
       "    .dataframe thead th {\n",
       "        text-align: right;\n",
       "    }\n",
       "</style>\n",
       "<table border=\"1\" class=\"dataframe\">\n",
       "  <thead>\n",
       "    <tr style=\"text-align: right;\">\n",
       "      <th></th>\n",
       "      <th>yr_bp</th>\n",
       "      <th>co2_ppmv</th>\n",
       "      <th>years_before_2023</th>\n",
       "      <th>calculated_year</th>\n",
       "    </tr>\n",
       "  </thead>\n",
       "  <tbody>\n",
       "    <tr>\n",
       "      <th>0</th>\n",
       "      <td>137</td>\n",
       "      <td>280.4</td>\n",
       "      <td>1886</td>\n",
       "      <td>3909</td>\n",
       "    </tr>\n",
       "    <tr>\n",
       "      <th>1</th>\n",
       "      <td>268</td>\n",
       "      <td>274.9</td>\n",
       "      <td>1755</td>\n",
       "      <td>3778</td>\n",
       "    </tr>\n",
       "    <tr>\n",
       "      <th>2</th>\n",
       "      <td>279</td>\n",
       "      <td>277.9</td>\n",
       "      <td>1744</td>\n",
       "      <td>3767</td>\n",
       "    </tr>\n",
       "    <tr>\n",
       "      <th>3</th>\n",
       "      <td>395</td>\n",
       "      <td>279.1</td>\n",
       "      <td>1628</td>\n",
       "      <td>3651</td>\n",
       "    </tr>\n",
       "    <tr>\n",
       "      <th>4</th>\n",
       "      <td>404</td>\n",
       "      <td>281.9</td>\n",
       "      <td>1619</td>\n",
       "      <td>3642</td>\n",
       "    </tr>\n",
       "  </tbody>\n",
       "</table>\n",
       "</div>"
      ],
      "text/plain": [
       "  yr_bp co2_ppmv years_before_2023 calculated_year\n",
       "0   137    280.4              1886            3909\n",
       "1   268    274.9              1755            3778\n",
       "2   279    277.9              1744            3767\n",
       "3   395    279.1              1628            3651\n",
       "4   404    281.9              1619            3642"
      ]
     },
     "execution_count": 1173,
     "metadata": {},
     "output_type": "execute_result"
    }
   ],
   "source": [
    "luthi_full_co2_data.head()"
   ]
  },
  {
   "cell_type": "markdown",
   "metadata": {},
   "source": [
    "droping  any rows with missing values in the DataFrame luthi_full_co2_data and information about data types and non-null counts for each column."
   ]
  },
  {
   "cell_type": "code",
   "execution_count": 1174,
   "metadata": {},
   "outputs": [
    {
     "name": "stdout",
     "output_type": "stream",
     "text": [
      "<class 'pandas.core.frame.DataFrame'>\n",
      "RangeIndex: 1096 entries, 0 to 1095\n",
      "Data columns (total 4 columns):\n",
      " #   Column             Non-Null Count  Dtype \n",
      "---  ------             --------------  ----- \n",
      " 0   yr_bp              1096 non-null   object\n",
      " 1   co2_ppmv           1096 non-null   object\n",
      " 2   years_before_2023  1096 non-null   object\n",
      " 3   calculated_year    1096 non-null   object\n",
      "dtypes: object(4)\n",
      "memory usage: 34.4+ KB\n"
     ]
    }
   ],
   "source": [
    "luthi_full_co2_data.dropna(inplace=True)\n",
    "\n",
    "# Verify the data types and non-null counts\n",
    "luthi_full_co2_data.info()"
   ]
  },
  {
   "cell_type": "markdown",
   "metadata": {},
   "source": [
    "# IPCC CO2 DATA \n",
    "\n",
    "IMPORTING DATA "
   ]
  },
  {
   "cell_type": "code",
   "execution_count": 1175,
   "metadata": {},
   "outputs": [],
   "source": [
    "CO2_IPCC_data = pd.read_excel(r'C:\\Users\\fifoa\\OneDrive\\Desktop\\ATU\\PFDA-PROJECT-2\\CO2 IPCC.xlsx', sheet_name='all records')\n",
    "\n",
    "\n",
    "\n"
   ]
  },
  {
   "cell_type": "markdown",
   "metadata": {},
   "source": [
    "# CAPTURING DataFrames FOR specific subsets of data FROM THE ORIGINAL DATA "
   ]
  },
  {
   "cell_type": "code",
   "execution_count": 1176,
   "metadata": {},
   "outputs": [],
   "source": [
    "# usING THE SAME ILOC FUNCTION USED FOR THE CO2 LUTHI to create subsets of data from the ORIGINAL dataset\n",
    "rubino = CO2_IPCC_data.iloc[90:, [83, 86]]\n",
    "macfarling = CO2_IPCC_data.iloc[137:, 68:70]\n",
    "monnin = CO2_IPCC_data.iloc[25:120, 2:4]\n",
    "marcott = CO2_IPCC_data.iloc[31:321, 98:100]\n",
    "ahn = CO2_IPCC_data.iloc[7:202, 89:91]\n",
    "bereiter = CO2_IPCC_data.iloc[28:106, 34:36]\n",
    "bereiter_2 = CO2_IPCC_data.iloc[60:154, 39:41]\n",
    "schneider = CO2_IPCC_data.iloc[6:, 65:67]\n",
    "petit = CO2_IPCC_data.iloc[124:348, 7:9]\n",
    "siegenthaler = CO2_IPCC_data.iloc[6:26, 20:22]\n",
    "siegenthaler_2 = CO2_IPCC_data.iloc[6:226, 15:17]\n",
    "bereiter_3 = CO2_IPCC_data.iloc[37:, 102:104]"
   ]
  },
  {
   "cell_type": "markdown",
   "metadata": {},
   "source": [
    "# RE NAMING THE COLUMNS (SIMILAR TO WHAT WAS DONE WITH CO2 LUTHI)"
   ]
  },
  {
   "cell_type": "code",
   "execution_count": 1177,
   "metadata": {},
   "outputs": [],
   "source": [
    "rubino.rename(columns=({'Unnamed: 83':'yr_bp', 'Unnamed: 86':'co2_ppmv'}), inplace=True)\n",
    "macfarling.rename(columns=({'Law Dome (0-2 kyr BP)':'yr_bp', 'Unnamed: 69':'co2_ppmv'}), inplace=True)\n",
    "monnin.rename(columns=({'Unnamed: 2':'yr_bp', 'Unnamed: 3':'co2_ppmv'}), inplace=True)\n",
    "marcott.rename(columns=({'Unnamed: 98':'yr_bp', 'Unnamed: 99':'co2_ppmv'}), inplace=True)\n",
    "ahn.rename(columns=({'Unnamed: 89':'yr_bp', 'Unnamed: 90':'co2_ppmv'}), inplace=True)\n",
    "bereiter.rename(columns=({'Unnamed: 34':'yr_bp', 'Unnamed: 35':'co2_ppmv'}), inplace=True)\n",
    "bereiter_2.rename(columns=({'Unnamed: 39':'yr_bp', 'Unnamed: 40':'co2_ppmv'}), inplace=True)\n",
    "schneider.rename(columns=({'Unnamed: 65':'yr_bp', 'Unnamed: 66':'co2_ppmv'}), inplace=True)\n",
    "petit.rename(columns=({'Unnamed: 7':'yr_bp', 'Unnamed: 8':'co2_ppmv'}), inplace=True)\n",
    "siegenthaler.rename(columns=({'Unnamed: 20':'yr_bp', 'Unnamed: 21':'co2_ppmv'}), inplace=True)\n",
    "siegenthaler_2.rename(columns=({'Unnamed: 15':'yr_bp', 'Unnamed: 16':'co2_ppmv'}), inplace=True)\n",
    "bereiter_3.rename(columns=({'Unnamed: 102':'yr_bp', 'Unnamed: 103':'co2_ppmv'}), inplace=True)"
   ]
  },
  {
   "cell_type": "markdown",
   "metadata": {},
   "source": [
    "This modification fills NaN values with 0 before attempting to convert the column to integers"
   ]
  },
  {
   "cell_type": "code",
   "execution_count": 1178,
   "metadata": {},
   "outputs": [],
   "source": [
    "# Loop through each subset and round down the 'yr_bp' column\n",
    "for subset in [rubino, macfarling, monnin, marcott, ahn, bereiter, bereiter_2, schneider, petit, siegenthaler, siegenthaler_2, bereiter_3]:\n",
    "    subset['yr_bp'] = subset['yr_bp'].fillna(0).apply(lambda x: int(x))\n",
    "\n",
    "# Example usage for one subset, e.g., rubino\n",
    "# rubino['yr_bp'] = rubino['yr_bp'].fillna(0).apply(lambda x: int(x))\n",
    "\n"
   ]
  },
  {
   "cell_type": "markdown",
   "metadata": {},
   "source": [
    "Round Down Floating-Point Years:"
   ]
  },
  {
   "cell_type": "code",
   "execution_count": 1179,
   "metadata": {},
   "outputs": [],
   "source": [
    "# Loop through each subset and round down the 'yr_bp' column\n",
    "for subset in [rubino, macfarling, monnin, marcott, ahn, bereiter, bereiter_2, schneider, petit, siegenthaler, siegenthaler_2, bereiter_3]:\n",
    "    subset['yr_bp'] = subset['yr_bp'].apply(lambda x: int(x))\n",
    "\n",
    "# Example usage for one subset, e.g., rubino\n",
    "# rubino['yr_bp'] = rubino['yr_bp'].apply(lambda x: int(x))\n"
   ]
  },
  {
   "cell_type": "code",
   "execution_count": 1180,
   "metadata": {},
   "outputs": [
    {
     "data": {
      "text/html": [
       "<div>\n",
       "<style scoped>\n",
       "    .dataframe tbody tr th:only-of-type {\n",
       "        vertical-align: middle;\n",
       "    }\n",
       "\n",
       "    .dataframe tbody tr th {\n",
       "        vertical-align: top;\n",
       "    }\n",
       "\n",
       "    .dataframe thead th {\n",
       "        text-align: right;\n",
       "    }\n",
       "</style>\n",
       "<table border=\"1\" class=\"dataframe\">\n",
       "  <thead>\n",
       "    <tr style=\"text-align: right;\">\n",
       "      <th></th>\n",
       "      <th>Dome C (0-22 kyr BP)</th>\n",
       "      <th>Unnamed: 1</th>\n",
       "      <th>Unnamed: 2</th>\n",
       "      <th>Unnamed: 3</th>\n",
       "      <th>Unnamed: 4</th>\n",
       "      <th>Vostok (0-440 kyr BP)</th>\n",
       "      <th>Unnamed: 6</th>\n",
       "      <th>Unnamed: 7</th>\n",
       "      <th>Unnamed: 8</th>\n",
       "      <th>Taylor Dome (19-63 kyr BP)</th>\n",
       "      <th>...</th>\n",
       "      <th>Unnamed: 98</th>\n",
       "      <th>Unnamed: 99</th>\n",
       "      <th>Unnamed: 100</th>\n",
       "      <th>EDC (560-806 kyr, corrected for analytical bias)</th>\n",
       "      <th>Unnamed: 102</th>\n",
       "      <th>Unnamed: 103</th>\n",
       "      <th>Unnamed: 104</th>\n",
       "      <th>Unnamed: 105</th>\n",
       "      <th>Unnamed: 106</th>\n",
       "      <th>Unnamed: 107</th>\n",
       "    </tr>\n",
       "  </thead>\n",
       "  <tbody>\n",
       "    <tr>\n",
       "      <th>0</th>\n",
       "      <td>Monnin et al. (2001+2004)</td>\n",
       "      <td>NaN</td>\n",
       "      <td>NaN</td>\n",
       "      <td>NaN</td>\n",
       "      <td>NaN</td>\n",
       "      <td>Petit et al. (1999)</td>\n",
       "      <td>NaN</td>\n",
       "      <td>NaN</td>\n",
       "      <td>NaN</td>\n",
       "      <td>Indermühle et al. (2000)</td>\n",
       "      <td>...</td>\n",
       "      <td>NaN</td>\n",
       "      <td>NaN</td>\n",
       "      <td>NaN</td>\n",
       "      <td>Bereiter et al. (2014)</td>\n",
       "      <td>NaN</td>\n",
       "      <td>NaN</td>\n",
       "      <td>NaN</td>\n",
       "      <td>NaN</td>\n",
       "      <td>NaN</td>\n",
       "      <td>NaN</td>\n",
       "    </tr>\n",
       "    <tr>\n",
       "      <th>1</th>\n",
       "      <td>NaN</td>\n",
       "      <td>NaN</td>\n",
       "      <td>NaN</td>\n",
       "      <td>NaN</td>\n",
       "      <td>NaN</td>\n",
       "      <td>Pepin et al. (2001)</td>\n",
       "      <td>NaN</td>\n",
       "      <td>NaN</td>\n",
       "      <td>NaN</td>\n",
       "      <td>NaN</td>\n",
       "      <td>...</td>\n",
       "      <td>NaN</td>\n",
       "      <td>NaN</td>\n",
       "      <td>NaN</td>\n",
       "      <td>NaN</td>\n",
       "      <td>NaN</td>\n",
       "      <td>NaN</td>\n",
       "      <td>NaN</td>\n",
       "      <td>NaN</td>\n",
       "      <td>NaN</td>\n",
       "      <td>NaN</td>\n",
       "    </tr>\n",
       "    <tr>\n",
       "      <th>2</th>\n",
       "      <td>NaN</td>\n",
       "      <td>NaN</td>\n",
       "      <td>NaN</td>\n",
       "      <td>NaN</td>\n",
       "      <td>NaN</td>\n",
       "      <td>Raynaud et al. (2005)</td>\n",
       "      <td>NaN</td>\n",
       "      <td>NaN</td>\n",
       "      <td>NaN</td>\n",
       "      <td>NaN</td>\n",
       "      <td>...</td>\n",
       "      <td>NaN</td>\n",
       "      <td>NaN</td>\n",
       "      <td>NaN</td>\n",
       "      <td>NaN</td>\n",
       "      <td>NaN</td>\n",
       "      <td>NaN</td>\n",
       "      <td>NaN</td>\n",
       "      <td>NaN</td>\n",
       "      <td>NaN</td>\n",
       "      <td>NaN</td>\n",
       "    </tr>\n",
       "    <tr>\n",
       "      <th>3</th>\n",
       "      <td>NaN</td>\n",
       "      <td>NaN</td>\n",
       "      <td>NaN</td>\n",
       "      <td>NaN</td>\n",
       "      <td>NaN</td>\n",
       "      <td>NaN</td>\n",
       "      <td>NaN</td>\n",
       "      <td>NaN</td>\n",
       "      <td>NaN</td>\n",
       "      <td>NaN</td>\n",
       "      <td>...</td>\n",
       "      <td>NaN</td>\n",
       "      <td>NaN</td>\n",
       "      <td>NaN</td>\n",
       "      <td>NaN</td>\n",
       "      <td>NaN</td>\n",
       "      <td>NaN</td>\n",
       "      <td>NaN</td>\n",
       "      <td>NaN</td>\n",
       "      <td>NaN</td>\n",
       "      <td>NaN</td>\n",
       "    </tr>\n",
       "    <tr>\n",
       "      <th>4</th>\n",
       "      <td>University of Bern</td>\n",
       "      <td>NaN</td>\n",
       "      <td>NaN</td>\n",
       "      <td>NaN</td>\n",
       "      <td>NaN</td>\n",
       "      <td>LGGE Grenoble</td>\n",
       "      <td>NaN</td>\n",
       "      <td>NaN</td>\n",
       "      <td>NaN</td>\n",
       "      <td>University of Bern</td>\n",
       "      <td>...</td>\n",
       "      <td>NaN</td>\n",
       "      <td>NaN</td>\n",
       "      <td>NaN</td>\n",
       "      <td>University of Bern</td>\n",
       "      <td>NaN</td>\n",
       "      <td>NaN</td>\n",
       "      <td>NaN</td>\n",
       "      <td>NaN</td>\n",
       "      <td>NaN</td>\n",
       "      <td>NaN</td>\n",
       "    </tr>\n",
       "  </tbody>\n",
       "</table>\n",
       "<p>5 rows × 108 columns</p>\n",
       "</div>"
      ],
      "text/plain": [
       "        Dome C (0-22 kyr BP) Unnamed: 1 Unnamed: 2 Unnamed: 3 Unnamed: 4  \\\n",
       "0  Monnin et al. (2001+2004)        NaN        NaN        NaN        NaN   \n",
       "1                        NaN        NaN        NaN        NaN        NaN   \n",
       "2                        NaN        NaN        NaN        NaN        NaN   \n",
       "3                        NaN        NaN        NaN        NaN        NaN   \n",
       "4         University of Bern        NaN        NaN        NaN        NaN   \n",
       "\n",
       "   Vostok (0-440 kyr BP) Unnamed: 6 Unnamed: 7 Unnamed: 8  \\\n",
       "0    Petit et al. (1999)        NaN        NaN        NaN   \n",
       "1    Pepin et al. (2001)        NaN        NaN        NaN   \n",
       "2  Raynaud et al. (2005)        NaN        NaN        NaN   \n",
       "3                    NaN        NaN        NaN        NaN   \n",
       "4          LGGE Grenoble        NaN        NaN        NaN   \n",
       "\n",
       "  Taylor Dome (19-63 kyr BP)  ... Unnamed: 98 Unnamed: 99 Unnamed: 100  \\\n",
       "0   Indermühle et al. (2000)  ...         NaN         NaN          NaN   \n",
       "1                        NaN  ...         NaN         NaN          NaN   \n",
       "2                        NaN  ...         NaN         NaN          NaN   \n",
       "3                        NaN  ...         NaN         NaN          NaN   \n",
       "4         University of Bern  ...         NaN         NaN          NaN   \n",
       "\n",
       "  EDC (560-806 kyr, corrected for analytical bias) Unnamed: 102 Unnamed: 103  \\\n",
       "0                           Bereiter et al. (2014)          NaN          NaN   \n",
       "1                                              NaN          NaN          NaN   \n",
       "2                                              NaN          NaN          NaN   \n",
       "3                                              NaN          NaN          NaN   \n",
       "4                               University of Bern          NaN          NaN   \n",
       "\n",
       "  Unnamed: 104 Unnamed: 105 Unnamed: 106 Unnamed: 107  \n",
       "0          NaN          NaN          NaN          NaN  \n",
       "1          NaN          NaN          NaN          NaN  \n",
       "2          NaN          NaN          NaN          NaN  \n",
       "3          NaN          NaN          NaN          NaN  \n",
       "4          NaN          NaN          NaN          NaN  \n",
       "\n",
       "[5 rows x 108 columns]"
      ]
     },
     "execution_count": 1180,
     "metadata": {},
     "output_type": "execute_result"
    }
   ],
   "source": [
    "CO2_IPCC_data.head()"
   ]
  },
  {
   "cell_type": "markdown",
   "metadata": {},
   "source": [
    "Concatenate Subsets into One DataFrame:"
   ]
  },
  {
   "cell_type": "code",
   "execution_count": 1181,
   "metadata": {},
   "outputs": [],
   "source": [
    "# Create a list of subsets\n",
    "subset_list = [rubino, macfarling, monnin, marcott, ahn, bereiter, bereiter_2, schneider, petit, siegenthaler, siegenthaler_2, bereiter_3]\n",
    "\n",
    "# Concatenate subsets into one DataFrame\n",
    "composite_data = pd.concat(subset_list, ignore_index=True)\n"
   ]
  },
  {
   "cell_type": "markdown",
   "metadata": {},
   "source": [
    "Plot Trending Levels of Carbon Dioxide Over Time:"
   ]
  },
  {
   "cell_type": "code",
   "execution_count": 1182,
   "metadata": {},
   "outputs": [
    {
     "data": {
      "image/png": "[encoded data removed]",
      "text/plain": [
       "<Figure size 640x480 with 1 Axes>"
      ]
     },
     "metadata": {},
     "output_type": "display_data"
    }
   ],
   "source": [
    "import matplotlib.pyplot as plt\n",
    "\n",
    "# Assuming 'yr_bp' and 'co2_ppmv' columns exist in the DataFrame\n",
    "plt.plot(composite_data['yr_bp'], composite_data['co2_ppmv'])\n",
    "plt.xlabel('Year Before Present (BP)')\n",
    "plt.ylabel('CO2 Concentration (ppmv)')\n",
    "plt.title('Trending Levels of Carbon Dioxide Over Time')\n",
    "plt.show()\n"
   ]
  },
  {
   "cell_type": "markdown",
   "metadata": {},
   "source": []
  },
  {
   "cell_type": "code",
   "execution_count": null,
   "metadata": {},
   "outputs": [],
   "source": []
  }
 ],
 "metadata": {
  "kernelspec": {
   "display_name": "base",
   "language": "python",
   "name": "python3"
  },
  "language_info": {
   "codemirror_mode": {
    "name": "ipython",
    "version": 3
   },
   "file_extension": ".py",
   "mimetype": "text/x-python",
   "name": "python",
   "nbconvert_exporter": "python",
   "pygments_lexer": "ipython3",
   "version": "3.9.13"
  }
 },
 "nbformat": 4,
 "nbformat_minor": 2
}
